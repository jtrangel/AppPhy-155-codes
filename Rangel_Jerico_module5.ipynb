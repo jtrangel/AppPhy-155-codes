{
  "nbformat": 4,
  "nbformat_minor": 0,
  "metadata": {
    "colab": {
      "name": "Rangel_Jerico_module5.ipynb",
      "provenance": [],
      "collapsed_sections": []
    },
    "kernelspec": {
      "name": "python3",
      "display_name": "Python 3"
    }
  },
  "cells": [
    {
      "cell_type": "markdown",
      "metadata": {
        "id": "G0BcK0H_G1Iu"
      },
      "source": [
        "# **AP155 Lab Assignment** \n",
        "## Module 5: Ordinary Differential Equations\n",
        "\n",
        "_Instructions_: Answer each problem as completely as you can. Discuss **all** your answers as clearly and concisely as possible. \n",
        "\n",
        "_Scoring Criteria_: 50% - *correctness of code*; 50% - *discussion of the code and results*. Maximum score is **100 points** (Problems 1 to 3 are worth 25, 25, and 50 points, respectively).\n",
        "\n",
        "_Due Date_: **5PM of November 19 (Thu)**\n"
      ]
    },
    {
      "cell_type": "markdown",
      "metadata": {
        "id": "PeHZ9kP8JaVR"
      },
      "source": [
        "### Student Information \n",
        "\n",
        "_Full Name (Last Name, First Name)_: Rangel, Jerico Miguel\\\n",
        "_Student No._: 2018-11666\\\n",
        "_Section_: WFU-2"
      ]
    },
    {
      "cell_type": "markdown",
      "metadata": {
        "id": "Hc183co-J4eI"
      },
      "source": [
        "### Submission Information\n",
        "\n",
        "_Date and Time Submitted (most recent upload)_: \n",
        "\n",
        "**HONOR PLEDGE** I affirm that I have upheld the highest principles of honesty and integrity in my academic work and that this lab assignment is my own work.\n",
        "\n",
        "**Sign here with your full name: Jerico Miguel Tapang Rangel**"
      ]
    },
    {
      "cell_type": "markdown",
      "metadata": {
        "id": "aOuHbwPqGjZ4"
      },
      "source": [
        "### Grading Information (c/o Lab Instructor)\n",
        "\n",
        "TOTAL SCORE: **[]**/100\n",
        "\n",
        "Score breakdown:\n",
        "* Problem 1 - []/25\n",
        "* Problem 2 - []/25\n",
        "* Problem 3 - []/50\n",
        "\n",
        "_Date and Time Scored (MM/DD/YYYY HH:MM AM/PM):_ "
      ]
    },
    {
      "cell_type": "markdown",
      "metadata": {
        "id": "LxWuqiCFMsEh"
      },
      "source": [
        "### PROBLEM 1 (25 pts.; 50/50 for code & discussion) \n",
        "**The Lotka-Volterra equations**\n",
        "\n",
        "_Refer to Exercise 8.2 in the Newman text._ The Lotka-Volterra equations are a mathematical model of predator-prey interactions between biological species. Let two variables $x$ and $y$ be proportional to the size of the populations of two species, traditionally called \"rabbits\" (the prey) and \"foxes\" (the predators). You could think of $x$ and $y$ as being the population in thousands, say, so that $x = 2$ means there are 2000 rabbits. \n",
        "\n",
        "In the Lotka-Volterra model the rabbits reproduce at a rate proportional to their population, but are eaten by the foxes at a rate proportional to both their own population and the population of foxes:\n",
        "\n",
        "$$\\frac{{\\rm d}x}{{\\rm d}t} = \\alpha x - \\beta xy,$$\n",
        "\n",
        "where $\\alpha$ and $\\beta$ are constants. At the same time the foxes reproduce at a rate proportional to the rate at which they eat rabbits-- because they need food to grow and reproduce-- but also die of old age at a rate proportional to their own population:\n",
        "\n",
        "$$\\frac{{\\rm d}y}{{\\rm d}t}  = \\gamma xy - \\delta y,$$\n",
        "\n",
        "where $\\gamma$ and $\\delta$ are also constants. *(15 pts.)*\n",
        "\n",
        "1. Solve these equations using the fourth-order Runge-Kutta method for the case $\\alpha = 1, \\beta = \\gamma = 0.5$, and $\\delta = 2$, starting from the initial condition $x = y = 2$. \n",
        "\n",
        "2. Make a graph showing both $x$ and $y$ as a function of time on the same axes from $t =0$ to $t = 30$. *(10 pts.)*"
      ]
    },
    {
      "cell_type": "markdown",
      "metadata": {
        "id": "pigtHgUlVW-g"
      },
      "source": [
        "1. I define the necessary initial values and the necessary arrays to be used in storing the data. I also define the two differential equations as $f_1$ and $f_2$ which whill be functions to be iterated into. To be able to apply the fourth-order Runge-Kutta method, I define a third function $f(r,t)$ which inputs values of x and y into both $f_1$ and $f_2$ simultaneously. The interval is set to be from 0 to 30 seconds, and I used 1000 steps in order to produce a smooth graph. For every value of t per step, the values of x and y change via k1,k2,k3, and k4 as per the Runge-Kutta method. These values are then stored into the arrays **rvalsx** and **rvalsy**. The corresponding values can then be plotted to solve the two differential equations."
      ]
    },
    {
      "cell_type": "markdown",
      "metadata": {
        "id": "Y3HonOYpWwut"
      },
      "source": [
        "2. I import matplotlib and use the plot function to plot the data for both equations. I add the necessary labels and the legend. It can be seen that the population of rabbits is at maximum when the population of foxes is at minimum. The inverse is true, and this makes sense due to their predator-prey relationship. "
      ]
    },
    {
      "cell_type": "code",
      "metadata": {
        "id": "hMqWOsbIMoUh",
        "colab": {
          "base_uri": "https://localhost:8080/",
          "height": 392
        },
        "outputId": "2495ba3b-f107-40de-a088-0f02f507a61b"
      },
      "source": [
        "import numpy as np\n",
        "\n",
        "alpha = 1\n",
        "beta = gamma = 0.5\n",
        "delta = 2\n",
        "t1 = index = 0\n",
        "t2 = 30\n",
        "N = 1000\n",
        "h = (t2-t1)/N\n",
        "\n",
        "r=np.array([2,2],float)\n",
        "tvals=np.zeros(N,float)\n",
        "rvalsx=np.zeros(N,float)\n",
        "rvalsy=np.zeros(N,float)\n",
        "\n",
        "def f1(x,y):\n",
        "  return alpha*x -beta*x*y\n",
        "def f2(x,y):\n",
        "  return gamma*x*y -delta*y\n",
        "def f(r,t):\n",
        "  return np.array([f1(r[0],r[1]),f2(r[0],r[1])],float)\n",
        "divs = np.linspace(t1,t2,N)\n",
        "\n",
        "for t in divs:\n",
        "  tvals[index] = t\n",
        "  k1 = h*f(r,t)\n",
        "  k2 = h*f(r+0.5*k1,t+0.5*h)\n",
        "  k3 = h*f(r+0.5*k2,t+0.5*h)\n",
        "  k4 = h*f(r+k3,t+h)\n",
        "  r += (k1+2*k2+2*k3+k4)/6\n",
        "  rvalsx[index] = r[0]\n",
        "  rvalsy[index] = r[1]\n",
        "  index += 1\n",
        "\n",
        "import matplotlib.pyplot as plt\n",
        "\n",
        "plt.figure(figsize=(8,6))\n",
        "plt.plot(tvals,rvalsx, label = \"Rabbits(Prey)\")\n",
        "plt.plot(tvals,rvalsy, label = \"Foxes(Predator)\") \n",
        "plt.xlabel(\"t\") \n",
        "plt.ylabel(\"Population(in thousands)\") \n",
        "plt.ylim((0,9)) \n",
        "\n",
        "plt.legend(loc=\"best\")\n",
        "plt.minorticks_on() "
      ],
      "execution_count": 2,
      "outputs": [
        {
          "output_type": "display_data",
          "data": {
            "image/png": "[encoded data removed]",
            "text/plain": [
              "<Figure size 576x432 with 1 Axes>"
            ]
          },
          "metadata": {
            "tags": [],
            "needs_background": "light"
          }
        }
      ]
    },
    {
      "cell_type": "markdown",
      "metadata": {
        "id": "kBX9EyMLOnXj"
      },
      "source": [
        "### PROBLEM 2 (25 pts.; 50/50 for code & discussion)\n",
        "\n",
        "**Nonlinear pendulum**\n",
        "\n",
        "_Refer to Exercise 8.4 in the Newman text._ Building on the results from Example 8.6, calculate the motion of a nonlinear pendulum as follows.\n",
        "\n",
        "1. Solve the two first-order equations, Eqs. (8.45) and (8.46), using the fourth-order Runge-Kutta method for a pendulum with a 10 cm arm. Use your program to calculate the angle $\\theta$ of displacement for several periods of the pendulum when it is released from a standstill at $\\theta = 179^\\circ$ from the vertical. *(15 pts.)*\n",
        "\n",
        "2. Make a graph of $\\theta$ as a function of time. *(10 pts.)*\n"
      ]
    },
    {
      "cell_type": "markdown",
      "metadata": {
        "id": "lh2USEzMcY93"
      },
      "source": [
        "1. Similar to problem 1, I define the necessary initial and constant values. The main difference is the functions that are defined. After defining the given functions as well, I use the algorithm for the Runge-Kutta method to get values for both theta as a function of time and omega as a function of time. "
      ]
    },
    {
      "cell_type": "markdown",
      "metadata": {
        "id": "3IRS_MuOdcE5"
      },
      "source": [
        "2. We are interested more in $\\theta(t)$ so we do not plot the values for omega anymore. I use matplotlib to plot the function. For a graph similar to that of the guide (also for better clarity), I copy the horizontal guidelines as well as the minor ticks. I add the necessary labels. The graph shows how the pendulum swings and its period which is at around 2.5 seconds. This is an ideal system so the amplitude does not decrease over time, there is no loss of energy during swinging."
      ]
    },
    {
      "cell_type": "code",
      "metadata": {
        "id": "R0g43FSaZdBz",
        "colab": {
          "base_uri": "https://localhost:8080/",
          "height": 388
        },
        "outputId": "7c698f5e-4160-40c5-cc3a-9fe908ff670d"
      },
      "source": [
        "import numpy as np\n",
        "from math import sin,pi\n",
        "g=9.81\n",
        "l=0.1\n",
        "N=1000\n",
        "t1=0\n",
        "t2=10\n",
        "h = (t2-t1)/N\n",
        "index=0\n",
        "\n",
        "r=np.array([179*pi/180,0],float)\n",
        "tvals=np.zeros(N,float)\n",
        "thetavals=np.zeros(N,float)\n",
        "omegavals=np.zeros(N,float)\n",
        "\n",
        "def f1(theta,omega):\n",
        "  return omega\n",
        "def f2(theta,omega):\n",
        "  return (-g/l)*sin(theta)\n",
        "def f(r,t):\n",
        "  return np.array([f1(r[0],r[1]),f2(r[0],r[1])],float)\n",
        "divs = np.linspace(t1,t2,N)\n",
        "\n",
        "for t in divs:\n",
        "  tvals[index] = t\n",
        "  k1 = h*f(r,t)\n",
        "  k2 = h*f(r+0.5*k1,t+0.5*h)\n",
        "  k3 = h*f(r+0.5*k2,t+0.5*h)\n",
        "  k4 = h*f(r+k3,t+h)\n",
        "  r += (k1+2*k2+2*k3+k4)/6\n",
        "  thetavals[index] = r[0]\n",
        "  omegavals[index] = r[1]\n",
        "  index += 1\n",
        "\n",
        "import matplotlib.pyplot as plt\n",
        "\n",
        "thetavals = (180/pi)*thetavals\n",
        "\n",
        "plt.figure(figsize=(8,6))\n",
        "plt.plot(tvals,thetavals)\n",
        "\n",
        "plt.axhline(0, color=\"black\", ls='--')\n",
        "plt.axhline(180, color=\"black\", ls=':')\n",
        "plt.axhline(-180, color=\"black\", ls=':')\n",
        "\n",
        "plt.xlabel(\"t (seconds)\") \n",
        "plt.ylabel(\"Angular displacement (°)\")\n",
        "\n",
        "plt.xlim((0,10)) \n",
        "plt.minorticks_on() "
      ],
      "execution_count": 3,
      "outputs": [
        {
          "output_type": "display_data",
          "data": {
            "image/png": "[encoded data removed]",
            "text/plain": [
              "<Figure size 576x432 with 1 Axes>"
            ]
          },
          "metadata": {
            "tags": [],
            "needs_background": "light"
          }
        }
      ]
    },
    {
      "cell_type": "markdown",
      "metadata": {
        "id": "Hs6zy-yraBeY"
      },
      "source": [
        "### PROBLEM 3 (50 pts.; 50/50 for code & discussion)\n",
        "\n",
        "**Quantum Oscillators**\n",
        "\n",
        "_Refer to Exercise 8.14 of the Newman text_ Consider the one-dimensional, time-independent Schrodinger equation in a harmonic (i.e., quadratic) potential $V(x) = V_0 x^2 / a^2$, where $V_0$ and $a$ are constants. \n",
        "\n",
        "1. Modify the code from Example 8.9 to find the energies of the ground state and the first two excited states for this potential when $m$ is the electron mass, $V_0 = 50$ eV, and $a = 10^{-11}$ m. Note that in theory the wavefunction goes all the way out to $x = \\pm \\infty$, but you can get good answers by using a large but finite interval. Try using $x = - 10a$ to $+10a$, with the wavefunction $\\psi = 0$ at both boundaries. (In effect, you are putting the harmonic oscillator in a box with impenetrable walls.) The wavefunction is real everywhere, so you don't need to use complex variables, and you can use evenly spaced points for the solution-- there is no need to use an adaptive method for this problem.\n",
        "\n",
        "   The quantum harmonic oscillator is known to have energy states that are equally spaced. Check that this is true, to the precision of your calculation, for your answers. (Hint: The ground state has energy in the range 100 to 200eV.) *(20 pts.)*\n",
        "\n",
        "2. Modify the code from (1) to calculate the same three energies for the anharmonic oscillator with $V(x) = V_0 x^4 /a^4$, with the same parameter values. *(10 pts.)*\n",
        "\n",
        "3. Calculate the properly normalized wavefunctions of the anharmonic oscillator for the three states. To normalize the wavefunctions you will have to calculate the value of the integral $\\int_{-\\infty}^{+\\infty} |\\psi(x)|^2 {\\rm d}x$ and then rescale $\\psi$ appropriately to ensure that the area under the square of each of the wavefunctions is 1. Either the trapezoidal rule or Simpson's rule will give you a reasonable value for the integral. *(15 pts.)*\n",
        "\n",
        "   Note that you may find a few very large values at the end of the array holding the wavefunction. Where do these large values come from? Are they real, or spurious? One simple way to deal with the large values is to make use of the fact that the system is symmetric about its midpoint and calculate the integral of the wavefunction over only the left-hand half of the system, then double the result. This neatly misses out the large values. \n",
        "\n",
        "4. Make a plot of the normalized wavefunctions from (3), all on the same axes, as a function of $x$ over a modest range near the origin-- say $x = -5a$ to $x =+5a$. *(5 pts.)*\n",
        "\n"
      ]
    },
    {
      "cell_type": "markdown",
      "metadata": {
        "id": "Hm4L4utbn5WS"
      },
      "source": [
        "1. The code from example 8.9 calculates the ground state energy of an electron in an infinite square potential well with given dimensions. This is done by applying the fourth order Runge-Kutta method to solve these two equations:\n",
        "$$\\frac{{\\rm d}\\psi}{{\\rm d}t}  = \\phi,$$\n",
        "$$\\frac{{\\rm d}\\phi}{{\\rm d}t}  = \\frac{2m}{\\hbar^2}(V(x)-E)\\psi$$\n",
        "These equations are derived from the time-independent Schrödinger equation, which was manipulated to result into two first-order differential equations. For this problem, we define the necessary constants, and the boundary $x = - 10a$ to $+10a$. For general accuracy we set N to 1000 steps. Afterwards we define the potential function $V(x)$, and the function $f(r,x,E)$ and $solve(E)$ for the execution of the fourth order Runge-Kutta method. In the **solve** function, we start at the boundary where $\\psi =0$ and we guess an initial value $\\phi = 1$. With these set, we are able to solve the two differential equations with one of the boundary conditions satisfied, $\\psi(-10a) = 0$. With just a guess, we are able to find the general shape of the solution. This however does not necessarily solve the problem since the other boundary condition needs to be satisifed. This is done be utilizing the secant method, i.e. varying the energy, to find an energy eigenstate of the wavefunction. The secant method takes the value of $\\psi$ local to the boundary as a function and finds its root such that $\\psi(10a) = 0$. For the initial energies, we can set $E_1=0$ and $E_2=e$, which is 1 eV. The following loop varies these energies until a root/energy eigenstate is found that is accurate up to 1 meV. This very first value which is obtained is known as the ground state energy, where the wavefunction cannot exist at a lower energy due to the quantized nature of the energy of quantum particles. "
      ]
    },
    {
      "cell_type": "code",
      "metadata": {
        "id": "nMx3AX6iaF8Q",
        "colab": {
          "base_uri": "https://localhost:8080/"
        },
        "outputId": "5a5af03b-3f51-4364-e751-5fbcf6503f2b"
      },
      "source": [
        "from numpy import array,arange\n",
        "\n",
        "m=9.1094e-31\n",
        "hbar=1.0546e-34\n",
        "e=1.6022e-19\n",
        "a=10**-11\n",
        "x1=-10*a\n",
        "x2=10*a\n",
        "N=1000\n",
        "h=(x2-x1)/N\n",
        "V0=50*e\n",
        "\n",
        "def V(x):\n",
        "  return (V0*x*x)/(a*a)\n",
        "def f(r,x,E):\n",
        "  psi = r[0]\n",
        "  phi = r[1]\n",
        "  fpsi = phi\n",
        "  fphi = (2*m/hbar**2)*(V(x)-E)*psi\n",
        "  return array([fpsi,fphi],float)\n",
        "\n",
        "def solve(E):\n",
        "  psi = 0.0\n",
        "  phi = 1.0\n",
        "  r = array([psi,phi],float)\n",
        "  for x in arange(x1,x2,h):\n",
        "    k1 = h*f(r,x,E)\n",
        "    k2 = h*f(r+0.5*k1,x+0.5*h,E)\n",
        "    k3 = h*f(r+0.5*k2,x+0.5*h,E)\n",
        "    k4 = h*f(r+k3,x+h,E)\n",
        "    r += (k1+2*k2+2*k3+k4)/6\n",
        "  return r[0]\n",
        "\n",
        "E1=0.0\n",
        "E2=e\n",
        "psi2=solve(E1)\n",
        "\n",
        "target =e/1000\n",
        "while abs(E1-E2)>target:\n",
        "  psi1,psi2=psi2,solve(E2)\n",
        "  E1,E2 = E2,E2-(psi2*(E2-E1)/(psi2-psi1))\n",
        "\n",
        "E_ground=E2/e\n",
        "print(\"Ground state E =\",E_ground,\"eV\")"
      ],
      "execution_count": 4,
      "outputs": [
        {
          "output_type": "stream",
          "text": [
            "Ground state E = 138.02397130603683 eV\n"
          ],
          "name": "stdout"
        }
      ]
    },
    {
      "cell_type": "markdown",
      "metadata": {
        "id": "9K8NlfG2wzKg"
      },
      "source": [
        "> To find the first excited state, we increase the initial energy values to find the next root/energy eigenstate in which the wavefunction exists. I was able to find the value of 414 eV when I set E1 to 140 eV and E2 to 400 eV. This value is the energy of the first excited state, the second possible discrete energy value."
      ]
    },
    {
      "cell_type": "code",
      "metadata": {
        "colab": {
          "base_uri": "https://localhost:8080/"
        },
        "id": "8pnQPwmbxpYI",
        "outputId": "476095ff-0baf-4c84-fcad-8134a56b5e14"
      },
      "source": [
        "E1=140*e\n",
        "E2=400*e\n",
        "psi2=solve(E1)\n",
        "\n",
        "target =e/1000\n",
        "while abs(E1-E2)>target:\n",
        "  psi1,psi2=psi2,solve(E2)\n",
        "  E1,E2 = E2,E2-(psi2*(E2-E1)/(psi2-psi1))\n",
        "  \n",
        "E_excited1=E2/e\n",
        "print(\"First excited state E =\",E_excited1,\"eV\")"
      ],
      "execution_count": 5,
      "outputs": [
        {
          "output_type": "stream",
          "text": [
            "First excited state E = 414.0719165423931 eV\n"
          ],
          "name": "stdout"
        }
      ]
    },
    {
      "cell_type": "markdown",
      "metadata": {
        "id": "U-uWqBsYxdBD"
      },
      "source": [
        "Similarly, for the next excited state, I change the initial values. The value 690 eV is then found to be the energy of the second excited state."
      ]
    },
    {
      "cell_type": "code",
      "metadata": {
        "colab": {
          "base_uri": "https://localhost:8080/"
        },
        "id": "tGQcTFoMxr1U",
        "outputId": "1e84c7a0-66b2-4d4c-945d-d56c41e8896f"
      },
      "source": [
        "E1=400*e\n",
        "E2=600*e\n",
        "psi2=solve(E1)\n",
        "\n",
        "target =e/1000\n",
        "while abs(E1-E2)>target:\n",
        "  psi1,psi2=psi2,solve(E2)\n",
        "  E1,E2 = E2,E2-(psi2*(E2-E1)/(psi2-psi1))\n",
        "\n",
        "E_excited2=E2/e\n",
        "print(\"Second excited state E =\",E_excited2,\"eV\")"
      ],
      "execution_count": 6,
      "outputs": [
        {
          "output_type": "stream",
          "text": [
            "Second excited state E = 690.1198621045553 eV\n"
          ],
          "name": "stdout"
        }
      ]
    },
    {
      "cell_type": "code",
      "metadata": {
        "colab": {
          "base_uri": "https://localhost:8080/"
        },
        "id": "uunk7avS5fen",
        "outputId": "02e50986-75ef-4102-ae9c-a173aad1874a"
      },
      "source": [
        "print(\"The first and second excited states have energies %.10f and %.10f times the ground energy state\" % (E_excited1/E_ground, E_excited2/E_ground)) "
      ],
      "execution_count": 7,
      "outputs": [
        {
          "output_type": "stream",
          "text": [
            "The first and second excited states have energies 3.0000000190 and 5.0000000404 times the ground energy state\n"
          ],
          "name": "stdout"
        }
      ]
    },
    {
      "cell_type": "markdown",
      "metadata": {
        "id": "LpxZrxgIytKc"
      },
      "source": [
        "2. For this anharmonic oscillator, we redefine the potential function to $V(x) = V_0 x^4 /a^4$, which is quartic. Since similar constants and parameters are used, we can reuse the $solve(E)$ function and use the secant method again to find energy eigenstates of the wavefunction. The ground state energy is found to be 205 eV."
      ]
    },
    {
      "cell_type": "code",
      "metadata": {
        "colab": {
          "base_uri": "https://localhost:8080/"
        },
        "id": "Fd33AtPYxCy6",
        "outputId": "66ab85fc-a54e-4eaa-d9dd-3ff855ac0877"
      },
      "source": [
        "def V(x):\n",
        "  return (V0*x**4)/(a**4)\n",
        "\n",
        "E1=0.0\n",
        "E2=e\n",
        "psi2=solve(E1)\n",
        "\n",
        "target =e/1000\n",
        "while abs(E1-E2)>target:\n",
        "  psi1,psi2=psi2,solve(E2)\n",
        "  E1,E2 = E2,E2-(psi2*(E2-E1)/(psi2-psi1))\n",
        "  \n",
        "E_ground2 =E2/e\n",
        "print(\"Ground state E =\",E_ground2,\"eV\")"
      ],
      "execution_count": 8,
      "outputs": [
        {
          "output_type": "stream",
          "text": [
            "Ground state E = 205.30690346934932 eV\n"
          ],
          "name": "stdout"
        }
      ]
    },
    {
      "cell_type": "markdown",
      "metadata": {
        "id": "Anc5koA2ylvE"
      },
      "source": [
        "The next excited state is acquired when the boundary values are set to 210 eV and 1000 eV. The energy of this state is 735 eV."
      ]
    },
    {
      "cell_type": "code",
      "metadata": {
        "colab": {
          "base_uri": "https://localhost:8080/"
        },
        "id": "CFhK2tJAy4Jj",
        "outputId": "a47b8c27-acf1-4e20-bdca-29476543bff2"
      },
      "source": [
        "E1=210*e\n",
        "E2=1000*e\n",
        "psi2=solve(E1)\n",
        "\n",
        "target =e/1000\n",
        "while abs(E1-E2)>target:\n",
        "  psi1,psi2=psi2,solve(E2)\n",
        "  E1,E2 = E2,E2-(psi2*(E2-E1)/(psi2-psi1))\n",
        "  \n",
        "E_excited12 = E2/e\n",
        "print(\"First excited state E =\",E_excited12,\"eV\")"
      ],
      "execution_count": 9,
      "outputs": [
        {
          "output_type": "stream",
          "text": [
            "First excited state E = 735.6912470404218 eV\n"
          ],
          "name": "stdout"
        }
      ]
    },
    {
      "cell_type": "markdown",
      "metadata": {
        "id": "SLdKsBzqy39U"
      },
      "source": [
        "The second excited state's energy is above 1000eV at 1443 eV."
      ]
    },
    {
      "cell_type": "code",
      "metadata": {
        "colab": {
          "base_uri": "https://localhost:8080/"
        },
        "id": "7lEnHm0ay4uM",
        "outputId": "801923c2-91a9-4115-cf4c-0d50ce2dd9fa"
      },
      "source": [
        "E1=1000*e\n",
        "E2=1500*e\n",
        "psi2=solve(E1)\n",
        "\n",
        "target =e/1000\n",
        "while abs(E1-E2)>target:\n",
        "  psi1,psi2=psi2,solve(E2)\n",
        "  E1,E2 = E2,E2-(psi2*(E2-E1)/(psi2-psi1))\n",
        "\n",
        "E_excited22 = E2/e\n",
        "print(\"Second excited state E =\",E_excited22,\"eV\")"
      ],
      "execution_count": 10,
      "outputs": [
        {
          "output_type": "stream",
          "text": [
            "Second excited state E = 1443.5694213458567 eV\n"
          ],
          "name": "stdout"
        }
      ]
    },
    {
      "cell_type": "markdown",
      "metadata": {
        "id": "NnFUidYMzfa2"
      },
      "source": [
        "3. For this part, the boundary is set to $x = - 5a$ to $+5a$. We use the same number of steps, 1000, the same potential function, and the same algorithm for the fourth order Runge-Kutta method. We added the arrays **x_grid** and **psi_grid** to be able to plot the wavefunctions. "
      ]
    },
    {
      "cell_type": "code",
      "metadata": {
        "id": "_RX5xa96zgcd"
      },
      "source": [
        "import numpy as np\n",
        "\n",
        "x1 = -5*a\n",
        "x2 = 5*a\n",
        "N =  1000\n",
        "h = (x2-x1)/N\n",
        "\n",
        "def V(x):\n",
        "    return (V0*x**4)/(a**4)\n",
        "\n",
        "def f(r,x,E):\n",
        "    psi = r[0]\n",
        "    phi = r[1]\n",
        "    fpsi = phi\n",
        "    fphi = (2*m/hbar**2)*(V(x)-E)*psi\n",
        "    return array([fpsi,fphi],float)\n",
        "\n",
        "def get_psi(E):\n",
        "    tpoints = arange(x1,x2,h)\n",
        "    xpoints = []              \n",
        "    ypoints = []              \n",
        "    psi = 0.0\n",
        "    phi = 1.0\n",
        "    r = array([psi,phi],float)\n",
        "\n",
        "    for t in tpoints:\n",
        "        xpoints.append(r[0])\n",
        "        ypoints.append(r[1])\n",
        "        k1 = h*f(r,t,E)\n",
        "        k2 = h*f(r+0.5*k1,t+0.5*h,E)\n",
        "        k3 = h*f(r+0.5*k2,t+0.5*h,E)\n",
        "        k4 = h*f(r+k3,t+h,E)\n",
        "        r += (k1+2*k2+2*k3+k4)/6\n",
        "\n",
        "    x_grid = np.array(tpoints)\n",
        "    psi_grid = np.array(xpoints)\n",
        "    return x_grid, psi_grid"
      ],
      "execution_count": 11,
      "outputs": []
    },
    {
      "cell_type": "markdown",
      "metadata": {
        "id": "rSLpMxjD05-B"
      },
      "source": [
        "To get the datapoints for each energy eigenstate, we convert the energy to Joules and run the function **get_psi** for each. We now have a data for x values, and corresponding y values for each possible energy state of the wavefunction."
      ]
    },
    {
      "cell_type": "code",
      "metadata": {
        "id": "VUQOUUcR06Xh"
      },
      "source": [
        "E = E_ground2*e\n",
        "x_grid, psi_grid1 = get_psi(E)\n",
        "\n",
        "E = E_excited12*e\n",
        "x_grid, psi_grid2 = get_psi(E)\n",
        "\n",
        "E = E_excited22*e\n",
        "x_grid, psi_grid3 = get_psi(E)"
      ],
      "execution_count": 12,
      "outputs": []
    },
    {
      "cell_type": "markdown",
      "metadata": {
        "id": "uSD757TO1Cwd"
      },
      "source": [
        "To normalize the wavefunctions, we need to take the integral $\\int_{-\\infty}^{+\\infty} |\\psi(x)|^2 {\\rm d}x$ for each case. We define a function **get_integral** which employs the trapezoidal rule method to calculate integrals. "
      ]
    },
    {
      "cell_type": "code",
      "metadata": {
        "id": "xZZEfGR21CWO"
      },
      "source": [
        "def get_integral(xx, yy):\n",
        "\n",
        "  N = len(xx)\n",
        "  s = 0.5*yy[0] + 0.5*yy[-1]\n",
        "  for k in range(1,N):\n",
        "    s += yy[k]\n",
        "\n",
        "  return s"
      ],
      "execution_count": 13,
      "outputs": []
    },
    {
      "cell_type": "markdown",
      "metadata": {
        "id": "iyMbwwRa1NpK"
      },
      "source": [
        "We solve for the value A in the equation $A^2\\int_{-\\infty}^{+\\infty} |\\psi(x)|^2 {\\rm d}x=1$, which is obtained by taking the square root of the inverse of the integral. The value of A here is then the normalization factor, which is obtained for each wavefunction and set as c1, c2, and c3."
      ]
    },
    {
      "cell_type": "code",
      "metadata": {
        "colab": {
          "base_uri": "https://localhost:8080/"
        },
        "id": "esmUQmia1IvU",
        "outputId": "459d6869-1551-4cb9-a65e-0cf92e145374"
      },
      "source": [
        "from math import sqrt\n",
        "\n",
        "c1 = 1/sqrt(get_integral(x_grid,psi_grid1**2))\n",
        "c2 = 1/sqrt(get_integral(x_grid,psi_grid2**2))\n",
        "c3 = 1/sqrt(get_integral(x_grid,psi_grid3**2))\n",
        "\n",
        "print(\"Normalization factors for the first 3 energy states: %.6e, %.6e, %.6e\" % (c1,c2,c3))"
      ],
      "execution_count": 14,
      "outputs": [
        {
          "output_type": "stream",
          "text": [
            "Normalization factors for the first 3 energy states: 1.111185e+04, 3.952162e+04, 1.206324e+05\n"
          ],
          "name": "stdout"
        }
      ]
    },
    {
      "cell_type": "code",
      "metadata": {
        "id": "D9hJSpQK61Fy"
      },
      "source": [
        "psi_norm1 = c1*psi_grid1\n",
        "psi_norm2 = c2*psi_grid2\n",
        "psi_norm3 = c3*psi_grid3"
      ],
      "execution_count": 15,
      "outputs": []
    },
    {
      "cell_type": "markdown",
      "metadata": {
        "id": "NiNUMFAq7BGU"
      },
      "source": [
        "The wavefunctions are plotted using matplotlib.pyplot and it's plot function. We can see that the wavefunctions with more energy, also has more peaks and has higher frequency. This is in line with the equation $E=hf$ wherein the energy is directly proportional to the frequency. We can also see that the boundary conditions are approximately satisfied, that is, $\\psi(-5a)=0$ and $\\psi(5a)=0$."
      ]
    },
    {
      "cell_type": "code",
      "metadata": {
        "colab": {
          "base_uri": "https://localhost:8080/",
          "height": 296
        },
        "id": "sIaR-1MM7A5M",
        "outputId": "4948fe24-8a36-42a1-e48f-0542456fb5ce"
      },
      "source": [
        "import matplotlib.pyplot as plt\n",
        "xplot = x_grid/a # plot the scaled position (by a) \n",
        "plt.plot(xplot,psi_norm1, color='black') # plot wavefunction of ground state \n",
        "plt.plot(xplot,psi_norm2, ls='--', color='black') # plot wavefunction of first excited state \n",
        "plt.plot(xplot,psi_norm3, ls='dotted', color='black') # plot wavefunction of second excited state \n",
        "\n",
        "plt.axhline(0.0, ls='--', color='blue')\n",
        "plt.axvline(0.0, ls='--', color='blue')\n",
        "plt.xlabel(\"x/a\")\n",
        "plt.ylabel(\"psi(x)\")"
      ],
      "execution_count": 17,
      "outputs": [
        {
          "output_type": "execute_result",
          "data": {
            "text/plain": [
              "Text(0, 0.5, 'psi(x)')"
            ]
          },
          "metadata": {
            "tags": []
          },
          "execution_count": 17
        },
        {
          "output_type": "display_data",
          "data": {
            "image/png": "[encoded data removed]",
            "text/plain": [
              "<Figure size 432x288 with 1 Axes>"
            ]
          },
          "metadata": {
            "tags": [],
            "needs_background": "light"
          }
        }
      ]
    }
  ]
}