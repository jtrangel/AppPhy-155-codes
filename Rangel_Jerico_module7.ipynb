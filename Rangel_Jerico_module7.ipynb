{
  "nbformat": 4,
  "nbformat_minor": 0,
  "metadata": {
    "colab": {
      "name": "Rangel_Jerico_module7.ipynb",
      "provenance": [],
      "collapsed_sections": []
    },
    "kernelspec": {
      "name": "python3",
      "display_name": "Python 3"
    }
  },
  "cells": [
    {
      "cell_type": "markdown",
      "metadata": {
        "id": "G0BcK0H_G1Iu"
      },
      "source": [
        "# **AP155 Lab Assignment  - GUIDE** \n",
        "## Module 7: Random Process and Monte Carlo Methods\n",
        "\n",
        "_Instructions_: Answer each problem as completely as you can. Discuss **all** your answers as clearly and concisely as possible. \n",
        "\n",
        "_Scoring Criteria_: 50% - *correctness of code*; 50% - *discussion of the code and results*. Maximum score is **100 points** (Problems 1 and 2 are worth 30 and 70 points, respectively).\n",
        "\n",
        "_Due Date_: **5PM of December 9 (Wed)**\n"
      ]
    },
    {
      "cell_type": "markdown",
      "metadata": {
        "id": "PeHZ9kP8JaVR"
      },
      "source": [
        "### Student Information \n",
        "\n",
        "_Full Name (Last Name, First Name)_: Rangel, Jerico\\\n",
        "_Student No._: 2018-11666\\\n",
        "_Section_: WFU-2"
      ]
    },
    {
      "cell_type": "markdown",
      "metadata": {
        "id": "Hc183co-J4eI"
      },
      "source": [
        "### Submission Information\n",
        "\n",
        "_Date and Time Submitted (most recent upload)_: \n",
        "\n",
        "**HONOR PLEDGE** I affirm that I have upheld the highest principles of honesty and integrity in my academic work and that this lab assignment is my own work.\n",
        "\n",
        "**Sign here with your full name: Jerico Miguel Tapang Rangel** "
      ]
    },
    {
      "cell_type": "markdown",
      "metadata": {
        "id": "c4UEpIRtGbM2"
      },
      "source": [
        "### Grading Information (c/o Lab Instructor)\n",
        "\n",
        "TOTAL SCORE: **[]**/100\n",
        "\n",
        "Score breakdown:\n",
        "* Problem 1 - []/30\n",
        "* Problem 2 - []/70\n",
        "\n",
        "_Date and Time Scored (MM/DD/YYYY HH:MM AM/PM):_ "
      ]
    },
    {
      "cell_type": "markdown",
      "metadata": {
        "id": "WmSjAg6ROj1S"
      },
      "source": [
        "### PROBLEM 1 (30 pts.; 50/50 for code & discussion) \n",
        "**Integration with Monte Carlo methods**\n",
        "\n",
        "_Refer to Exercise 10.5 in the Newman text_ \n",
        "\n",
        "1. Evaluate this integral \n",
        "$$ I = \\int_0^2 \\sin^2\\left[\\frac{1}{x(2-x)}\\right] {\\rm d}x.$$\n",
        "using the \"hit-or-miss\" Monte Carlo method of Section 10.2 with 10,000 points. Also evaluate the error on your estimate. *(15 pts.)*\n",
        "\n",
        "2. Now estimate the integral again using the mean value method with 10,000 points. Also evaluate the error. *(15 pts.)*"
      ]
    },
    {
      "cell_type": "markdown",
      "metadata": {
        "id": "_BBBjCAnKGp4"
      },
      "source": [
        "1. We calculate the integral using the \"hit-or-miss\" Monte Carlo method adapting the code ```mcint.py``` from the Newman text. We use $N=10,000$ random points."
      ]
    },
    {
      "cell_type": "code",
      "metadata": {
        "id": "A1LCdAVm7FIi",
        "colab": {
          "base_uri": "https://localhost:8080/"
        },
        "outputId": "dae3ff91-4655-4c00-bf03-9cf60b2022be"
      },
      "source": [
        "import math \n",
        "import random \n",
        "import numpy as np\n",
        "\n",
        "# define the integrand\n",
        "def f(x): \n",
        "  return (math.sin(1/(x*(2-x))))**2#insert equation here\n",
        "\n",
        "# set random seed\n",
        "random.seed(123) #this is optional, you can opt to seed your random numbers to make sure that you get a fixed set of random numbers muna\n",
        "\n",
        "N = 10000 # set number of random points\n",
        "count =  0 # initialize counter of points within the area under the curve\n",
        "for i in range(N):  # get random x,y and update count    \n",
        "  x = 2*random.random() #get random x\n",
        "  y = random.random() #get random y\n",
        "  if y<f(x):          \n",
        "    count += 1 \n",
        "\n",
        "I = 2*count/N # calculate integral\n",
        "print(I)"
      ],
      "execution_count": null,
      "outputs": [
        {
          "output_type": "stream",
          "text": [
            "1.4254\n"
          ],
          "name": "stdout"
        }
      ]
    },
    {
      "cell_type": "markdown",
      "metadata": {
        "id": "ynf9G5vZD3en"
      },
      "source": [
        "The expected error on the integral $I$ from the \"hit-and-miss\" method is:\n",
        "\\begin{equation}\n",
        "\\sigma = \\frac{\\sqrt{I(A-I)}}{\\sqrt{N}},\n",
        "\\end{equation}\n",
        "where $A$ is the area of the bounding rectangle."
      ]
    },
    {
      "cell_type": "code",
      "metadata": {
        "colab": {
          "base_uri": "https://localhost:8080/"
        },
        "id": "exSsLm0KELJG",
        "outputId": "b6377ef4-1f1a-4b27-ce10-f2c474ac4af4"
      },
      "source": [
        "A = 2 \n",
        "sigma = math.sqrt(I*(A-I)/N)#insert the equation\n",
        "print(sigma)"
      ],
      "execution_count": null,
      "outputs": [
        {
          "output_type": "stream",
          "text": [
            "0.009050054364477597\n"
          ],
          "name": "stdout"
        }
      ]
    },
    {
      "cell_type": "markdown",
      "metadata": {
        "id": "34u-OGsKEmQc"
      },
      "source": [
        "2. We calculate the same integral using the mean value method with the same $N = 10,000$."
      ]
    },
    {
      "cell_type": "code",
      "metadata": {
        "colab": {
          "base_uri": "https://localhost:8080/"
        },
        "id": "eh7ZcKP1EuKn",
        "outputId": "4947cb4e-8d4f-4347-d48a-4d546d6730f0"
      },
      "source": [
        "f_sum, fsq_sum = 0, 0\n",
        "\n",
        "for i in range(N):\n",
        "  x = 2*random.random()# get random number between [0,2)\n",
        "  f_sum += f(x) # get sum\n",
        "  fsq_sum += (f(x))**2 # get sum of squares\n",
        "\n",
        "I2 = (2/N)*f_sum #here we use equation 10.30 from the book\n",
        "print(I2) "
      ],
      "execution_count": null,
      "outputs": [
        {
          "output_type": "stream",
          "text": [
            "1.4533959692075666\n"
          ],
          "name": "stdout"
        }
      ]
    },
    {
      "cell_type": "markdown",
      "metadata": {
        "id": "547Ao1n1F52F"
      },
      "source": [
        "The expected error on the integral from the mean value method is:\n",
        "\\begin{equation}\n",
        "\\sigma = (b-a)\\frac{\\sqrt{{\\rm var} f}}{\\sqrt{N}}.\n",
        "\\end{equation}"
      ]
    },
    {
      "cell_type": "code",
      "metadata": {
        "colab": {
          "base_uri": "https://localhost:8080/"
        },
        "id": "EL0h1LZsGfyf",
        "outputId": "2e892508-a74d-4c87-b19d-7675ab03e714"
      },
      "source": [
        "varf = (1/N)*((fsq_sum)-(1/N)*((f_sum)**2)) #compute for the variance\n",
        "sigma2 = 2*math.sqrt(varf/N) #compute sigma using equation above\n",
        "print(sigma2)"
      ],
      "execution_count": null,
      "outputs": [
        {
          "output_type": "stream",
          "text": [
            "0.005276752399569932\n"
          ],
          "name": "stdout"
        }
      ]
    },
    {
      "cell_type": "markdown",
      "metadata": {
        "id": "BIg35UYzJ-ZQ"
      },
      "source": [
        "As expected, this is smaller than the expected error from the \"hit-and-miss\" Monte Carlo method."
      ]
    },
    {
      "cell_type": "markdown",
      "metadata": {
        "id": "LxWuqiCFMsEh"
      },
      "source": [
        "### PROBLEM 2 (70 pts.; 50/50 for code & discussion) \n",
        "**The Ising model**\n",
        "\n",
        "_Refer to Exercise 10.9 in the Newman text._ The Ising model is a theoretical model of a magnet. The magnetic potential energy due to the interaction of two dipoles is proportional to their dot product, but in the Ising model this simplifies to just the product $s_i s_j$ for spins on sites $i$ and $j$ of the lattice, since the spins are one-dimensional scalars, not vectors. Then the actual energy of interaction is $-Js_i s_j$, where $J$ is a positive interaction constant. The minus sign ensures that the in- teractions are ferromagnetic, meaning the energy is lower when dipoles are lined up. A ferromagnetic interaction implies that the material will magnetize if given the chance.\n",
        "\n",
        "Normally it is assumed that spins interact only with those that are immediately adjacent to them on the lattice, which gives a total energy for the entire system equal to\n",
        "$$ E = -J \\sum_{\\langle ij \\rangle} s_i s_j,$$\n",
        "where the notation $\\langle ij \\rangle$ indicates a sum over pairs $i,j$ that are adjacent on the lattice. On the square lattice we use in this exercise each spin has four adjacent neighbors with which it interacts, except for the spins at the edges of the lattice, which have either two or three neighbors.\n",
        "\n",
        "Perform a Markov chain Monte Carlo simulation of the Ising model on the square lattice for a system of 20 x 20 spins. You will need to set up variables to hold the value ±1 of the spin on each lattice site, probably using a two-dimensional integer array, and then take the following steps.\n",
        "\n",
        "1. Write a function to calculate the total energy of the system, as given by the equation above. That is, for a given array of values of the spins, go through every pair of adjacent spins and add up the contributions $s_i s_j$ from all of them, then multiply by $-J$. Hint 1: Each unique pair of adjacent spins crops up only once in the sum. Thus there is a term $-Js_1s_2$ if spins 1 and 2 are adjacent to one another, but you do not also need a term $-Js_2s_1$. Hint 2: To make your final program to run in a reasonable amount of time, you will find it helpful if you can work out a way to calculate the energy using Python's ability to do arithmetic with entire arrays at once. If you do the calculation step by step, your program will be significantly slower. *(20 pts.)*\n",
        "\n",
        "2. Now use your function as the basis for a Metropolis-style simulation of the Ising model with $J = 1$ and temperature $T = 1$ in units where the Boltzmann constant $k_B$ is also 1. Initially set the spin variables randomly to ±1, so that on average about a half of them are up and a half down, giving a total magneti- zation of roughly zero. Then choose a spin at random, flip it, and calculate the new energy after it is flipped, and hence also the change in energy as a result of the flip. Then decide whether to accept the flip using the Metropolis acceptance formula, Eq. (10.60). If the move is rejected you will have to flip the spin back to where it was. Otherwise you keep the flipped spip. Now repeat this process for many moves. *(20 pts.)*\n",
        "\n",
        "3. Make a plot of the total magnetization $M = \\sum_i s_i$ of the system as a function of time for a million Monte Carlo steps. You should see that the system develops a \"spontaneous magnetization,\" a nonzero value of the overall magnetization. Hint: While you are working on your program, do shorter runs, of maybe ten thousand steps at a time. Once you have it working properly, do a longer run of a million steps to get the final results. *(20 pts.)*\n",
        "\n",
        "4. Run your program several times and observe the sign of the magnetization that develops, positive or negative. Describe what you find and give a brief explana- tion of what is happening. *(10 pts.)*"
      ]
    },
    {
      "cell_type": "code",
      "metadata": {
        "id": "BpHPdVKNSyVG"
      },
      "source": [
        "def total_energy(state, J): #not periodic\n",
        "  N = len(state) # size of lattice\n",
        "  energy = 0     # initialize energy\n",
        "  #try drawing this first so that you'll know the values of si_sj (be careful with your indexing)\n",
        "  for i in np.arange(N):\n",
        "    for j in np.arange(N): \n",
        "      if i<=j:\n",
        "        # case1: 4 corner cells - have 2 adjacent cells \n",
        "        if (i==0) & (j==0):\n",
        "          si_sj = \n",
        "        elif (i==0) & (j==N-1):\n",
        "          si_sj = \n",
        "        elif (i==N-1) & (j==0):\n",
        "          si_sj =  \n",
        "        elif (i==N-1 & j==N-1):\n",
        "          si_sj = \n",
        "        # case2: side cells - have 3 adjacent cells\n",
        "        elif i=='''what is the value of i for the left side cell (hint look at the values above for the corner cells)''':\n",
        "            si_sj = \n",
        "        elif j=='''what is the value of i for the lower side cell (hint look at the values above for the corner cells)''':\n",
        "            si_sj =  \n",
        "        elif i=='''what is the value of i for the right side cell (hint look at the values above for the corner cells)''':\n",
        "          si_sj = \n",
        "        elif j=='''what is the value of i for the upper side cell (hint look at the values above for the corner cells)''':\n",
        "          si_sj = \n",
        "        # case3: inner cells - have 4 adjacent cells\n",
        "        else: \n",
        "          si_sj = \n",
        "        energy += -1.*si_sj\n",
        "  return J*energy "
      ],
      "execution_count": null,
      "outputs": []
    },
    {
      "cell_type": "code",
      "metadata": {
        "id": "revkac9GeYHR"
      },
      "source": [
        "def delta_E(y,x, state):\n",
        "    E_i = #calculate energy before flipping\n",
        "    \n",
        "    state[y,x] =  #flip the chosen random state\n",
        "    E_j = #calculate new energy after flipping\n",
        "\n",
        "    return #return difference of the two energies"
      ],
      "execution_count": null,
      "outputs": []
    },
    {
      "cell_type": "code",
      "metadata": {
        "id": "UpKZ3dMXeYHS"
      },
      "source": [
        "def metropolis_flip(change_E,y,x,state):\n",
        "    global k_B\n",
        "    global T\n",
        "    beta = #define beta\n",
        "    if #insert condition for flipping (hint: p483 of newmann):\n",
        "        state[y,x] =  #accept the flip\n",
        "    return state"
      ],
      "execution_count": null,
      "outputs": []
    },
    {
      "cell_type": "code",
      "metadata": {
        "id": "TJID9cUneYHS"
      },
      "source": [
        "def magnetization(state): #calculate the total magnetization of the system\n",
        "    global N\n",
        "    return np.sum(state)/N"
      ],
      "execution_count": null,
      "outputs": []
    },
    {
      "cell_type": "code",
      "metadata": {
        "id": "cKWiGe3TeYHS"
      },
      "source": [
        "N =  #size of lattice\n",
        "\n",
        "J = #interaction constant\n",
        "k_B = #Boltzmann constant\n",
        "T = #Temperature\n",
        "\n",
        "state = #define NxN lattice which contains 1 or -1 (hint: use numpy.random package)\n",
        "\n",
        "iterations = #set number of iterations required (use small values to start)\n",
        "M = []\n",
        "for i in range(iterations+1):\n",
        "    y,x =  #choose a random spin from the lattice\n",
        "    change_E = #calculate the change in energy\n",
        "    state = #decide whether to flip the state or not\n",
        "\n",
        "    total_magnetization = #compute magnetization of the whole lattice\n",
        "    M.append(total_magnetization)"
      ],
      "execution_count": null,
      "outputs": []
    },
    {
      "cell_type": "code",
      "metadata": {
        "id": "UK6uSYB7eYHT",
        "outputId": "006144fa-691b-448c-bf3f-17cff0d7f78f"
      },
      "source": [
        "import matplotlib.pyplot as plt\n",
        "#this is for 1000 iterations only, you need to do 1,000,000 ata\n",
        "#plot magnetization\n",
        "plt.plot()\n",
        "plt.show()"
      ],
      "execution_count": null,
      "outputs": [
        {
          "output_type": "display_data",
          "data": {
            "text/plain": [
              "<Figure size 432x288 with 1 Axes>"
            ],
            "image/svg+xml": "<?xml version=\"1.0\" encoding=\"utf-8\" standalone=\"no\"?>\n<!DOCTYPE svg PUBLIC \"-//W3C//DTD SVG 1.1//EN\"\n  \"http://www.w3.org/Graphics/SVG/1.1/DTD/svg11.dtd\">\n<!-- Created with matplotlib (https://matplotlib.org/) -->\n<svg height=\"262.19625pt\" version=\"1.1\" viewBox=\"0 0 382.603125 262.19625\" width=\"382.603125pt\" xmlns=\"http://www.w3.org/2000/svg\" xmlns:xlink=\"http://www.w3.org/1999/xlink\">\n <defs>\n  <style type=\"text/css\">\n*{stroke-linecap:butt;stroke-linejoin:round;}\n  </style>\n </defs>\n <g id=\"figure_1\">\n  <g id=\"patch_1\">\n   <path d=\"M 0 262.19625 \nL 382.603125 262.19625 \nL 382.603125 0 \nL 0 0 \nz\n\" style=\"fill:none;\"/>\n  </g>\n  <g id=\"axes_1\">\n   <g id=\"patch_2\">\n    <path d=\"M 40.603125 224.64 \nL 375.403125 224.64 \nL 375.403125 7.2 \nL 40.603125 7.2 \nz\n\" style=\"fill:#ffffff;\"/>\n   </g>\n   <g id=\"matplotlib.axis_1\">\n    <g id=\"xtick_1\">\n     <g id=\"line2d_1\">\n      <defs>\n       <path d=\"M 0 0 \nL 0 3.5 \n\" id=\"mf5d7e7dbcb\" style=\"stroke:#000000;stroke-width:0.8;\"/>\n      </defs>\n      <g>\n       <use style=\"stroke:#000000;stroke-width:0.8;\" x=\"55.821307\" xlink:href=\"#mf5d7e7dbcb\" y=\"224.64\"/>\n      </g>\n     </g>\n     <g id=\"text_1\">\n      <!-- 0 -->\n      <defs>\n       <path d=\"M 31.78125 66.40625 \nQ 24.171875 66.40625 20.328125 58.90625 \nQ 16.5 51.421875 16.5 36.375 \nQ 16.5 21.390625 20.328125 13.890625 \nQ 24.171875 6.390625 31.78125 6.390625 \nQ 39.453125 6.390625 43.28125 13.890625 \nQ 47.125 21.390625 47.125 36.375 \nQ 47.125 51.421875 43.28125 58.90625 \nQ 39.453125 66.40625 31.78125 66.40625 \nz\nM 31.78125 74.21875 \nQ 44.046875 74.21875 50.515625 64.515625 \nQ 56.984375 54.828125 56.984375 36.375 \nQ 56.984375 17.96875 50.515625 8.265625 \nQ 44.046875 -1.421875 31.78125 -1.421875 \nQ 19.53125 -1.421875 13.0625 8.265625 \nQ 6.59375 17.96875 6.59375 36.375 \nQ 6.59375 54.828125 13.0625 64.515625 \nQ 19.53125 74.21875 31.78125 74.21875 \nz\n\" id=\"DejaVuSans-48\"/>\n      </defs>\n      <g transform=\"translate(52.640057 239.238437)scale(0.1 -0.1)\">\n       <use xlink:href=\"#DejaVuSans-48\"/>\n      </g>\n     </g>\n    </g>\n    <g id=\"xtick_2\">\n     <g id=\"line2d_2\">\n      <g>\n       <use style=\"stroke:#000000;stroke-width:0.8;\" x=\"116.694034\" xlink:href=\"#mf5d7e7dbcb\" y=\"224.64\"/>\n      </g>\n     </g>\n     <g id=\"text_2\">\n      <!-- 200 -->\n      <defs>\n       <path d=\"M 19.1875 8.296875 \nL 53.609375 8.296875 \nL 53.609375 0 \nL 7.328125 0 \nL 7.328125 8.296875 \nQ 12.9375 14.109375 22.625 23.890625 \nQ 32.328125 33.6875 34.8125 36.53125 \nQ 39.546875 41.84375 41.421875 45.53125 \nQ 43.3125 49.21875 43.3125 52.78125 \nQ 43.3125 58.59375 39.234375 62.25 \nQ 35.15625 65.921875 28.609375 65.921875 \nQ 23.96875 65.921875 18.8125 64.3125 \nQ 13.671875 62.703125 7.8125 59.421875 \nL 7.8125 69.390625 \nQ 13.765625 71.78125 18.9375 73 \nQ 24.125 74.21875 28.421875 74.21875 \nQ 39.75 74.21875 46.484375 68.546875 \nQ 53.21875 62.890625 53.21875 53.421875 \nQ 53.21875 48.921875 51.53125 44.890625 \nQ 49.859375 40.875 45.40625 35.40625 \nQ 44.1875 33.984375 37.640625 27.21875 \nQ 31.109375 20.453125 19.1875 8.296875 \nz\n\" id=\"DejaVuSans-50\"/>\n      </defs>\n      <g transform=\"translate(107.150284 239.238437)scale(0.1 -0.1)\">\n       <use xlink:href=\"#DejaVuSans-50\"/>\n       <use x=\"63.623047\" xlink:href=\"#DejaVuSans-48\"/>\n       <use x=\"127.246094\" xlink:href=\"#DejaVuSans-48\"/>\n      </g>\n     </g>\n    </g>\n    <g id=\"xtick_3\">\n     <g id=\"line2d_3\">\n      <g>\n       <use style=\"stroke:#000000;stroke-width:0.8;\" x=\"177.566761\" xlink:href=\"#mf5d7e7dbcb\" y=\"224.64\"/>\n      </g>\n     </g>\n     <g id=\"text_3\">\n      <!-- 400 -->\n      <defs>\n       <path d=\"M 37.796875 64.3125 \nL 12.890625 25.390625 \nL 37.796875 25.390625 \nz\nM 35.203125 72.90625 \nL 47.609375 72.90625 \nL 47.609375 25.390625 \nL 58.015625 25.390625 \nL 58.015625 17.1875 \nL 47.609375 17.1875 \nL 47.609375 0 \nL 37.796875 0 \nL 37.796875 17.1875 \nL 4.890625 17.1875 \nL 4.890625 26.703125 \nz\n\" id=\"DejaVuSans-52\"/>\n      </defs>\n      <g transform=\"translate(168.023011 239.238437)scale(0.1 -0.1)\">\n       <use xlink:href=\"#DejaVuSans-52\"/>\n       <use x=\"63.623047\" xlink:href=\"#DejaVuSans-48\"/>\n       <use x=\"127.246094\" xlink:href=\"#DejaVuSans-48\"/>\n      </g>\n     </g>\n    </g>\n    <g id=\"xtick_4\">\n     <g id=\"line2d_4\">\n      <g>\n       <use style=\"stroke:#000000;stroke-width:0.8;\" x=\"238.439489\" xlink:href=\"#mf5d7e7dbcb\" y=\"224.64\"/>\n      </g>\n     </g>\n     <g id=\"text_4\">\n      <!-- 600 -->\n      <defs>\n       <path d=\"M 33.015625 40.375 \nQ 26.375 40.375 22.484375 35.828125 \nQ 18.609375 31.296875 18.609375 23.390625 \nQ 18.609375 15.53125 22.484375 10.953125 \nQ 26.375 6.390625 33.015625 6.390625 \nQ 39.65625 6.390625 43.53125 10.953125 \nQ 47.40625 15.53125 47.40625 23.390625 \nQ 47.40625 31.296875 43.53125 35.828125 \nQ 39.65625 40.375 33.015625 40.375 \nz\nM 52.59375 71.296875 \nL 52.59375 62.3125 \nQ 48.875 64.0625 45.09375 64.984375 \nQ 41.3125 65.921875 37.59375 65.921875 \nQ 27.828125 65.921875 22.671875 59.328125 \nQ 17.53125 52.734375 16.796875 39.40625 \nQ 19.671875 43.65625 24.015625 45.921875 \nQ 28.375 48.1875 33.59375 48.1875 \nQ 44.578125 48.1875 50.953125 41.515625 \nQ 57.328125 34.859375 57.328125 23.390625 \nQ 57.328125 12.15625 50.6875 5.359375 \nQ 44.046875 -1.421875 33.015625 -1.421875 \nQ 20.359375 -1.421875 13.671875 8.265625 \nQ 6.984375 17.96875 6.984375 36.375 \nQ 6.984375 53.65625 15.1875 63.9375 \nQ 23.390625 74.21875 37.203125 74.21875 \nQ 40.921875 74.21875 44.703125 73.484375 \nQ 48.484375 72.75 52.59375 71.296875 \nz\n\" id=\"DejaVuSans-54\"/>\n      </defs>\n      <g transform=\"translate(228.895739 239.238437)scale(0.1 -0.1)\">\n       <use xlink:href=\"#DejaVuSans-54\"/>\n       <use x=\"63.623047\" xlink:href=\"#DejaVuSans-48\"/>\n       <use x=\"127.246094\" xlink:href=\"#DejaVuSans-48\"/>\n      </g>\n     </g>\n    </g>\n    <g id=\"xtick_5\">\n     <g id=\"line2d_5\">\n      <g>\n       <use style=\"stroke:#000000;stroke-width:0.8;\" x=\"299.312216\" xlink:href=\"#mf5d7e7dbcb\" y=\"224.64\"/>\n      </g>\n     </g>\n     <g id=\"text_5\">\n      <!-- 800 -->\n      <defs>\n       <path d=\"M 31.78125 34.625 \nQ 24.75 34.625 20.71875 30.859375 \nQ 16.703125 27.09375 16.703125 20.515625 \nQ 16.703125 13.921875 20.71875 10.15625 \nQ 24.75 6.390625 31.78125 6.390625 \nQ 38.8125 6.390625 42.859375 10.171875 \nQ 46.921875 13.96875 46.921875 20.515625 \nQ 46.921875 27.09375 42.890625 30.859375 \nQ 38.875 34.625 31.78125 34.625 \nz\nM 21.921875 38.8125 \nQ 15.578125 40.375 12.03125 44.71875 \nQ 8.5 49.078125 8.5 55.328125 \nQ 8.5 64.0625 14.71875 69.140625 \nQ 20.953125 74.21875 31.78125 74.21875 \nQ 42.671875 74.21875 48.875 69.140625 \nQ 55.078125 64.0625 55.078125 55.328125 \nQ 55.078125 49.078125 51.53125 44.71875 \nQ 48 40.375 41.703125 38.8125 \nQ 48.828125 37.15625 52.796875 32.3125 \nQ 56.78125 27.484375 56.78125 20.515625 \nQ 56.78125 9.90625 50.3125 4.234375 \nQ 43.84375 -1.421875 31.78125 -1.421875 \nQ 19.734375 -1.421875 13.25 4.234375 \nQ 6.78125 9.90625 6.78125 20.515625 \nQ 6.78125 27.484375 10.78125 32.3125 \nQ 14.796875 37.15625 21.921875 38.8125 \nz\nM 18.3125 54.390625 \nQ 18.3125 48.734375 21.84375 45.5625 \nQ 25.390625 42.390625 31.78125 42.390625 \nQ 38.140625 42.390625 41.71875 45.5625 \nQ 45.3125 48.734375 45.3125 54.390625 \nQ 45.3125 60.0625 41.71875 63.234375 \nQ 38.140625 66.40625 31.78125 66.40625 \nQ 25.390625 66.40625 21.84375 63.234375 \nQ 18.3125 60.0625 18.3125 54.390625 \nz\n\" id=\"DejaVuSans-56\"/>\n      </defs>\n      <g transform=\"translate(289.768466 239.238437)scale(0.1 -0.1)\">\n       <use xlink:href=\"#DejaVuSans-56\"/>\n       <use x=\"63.623047\" xlink:href=\"#DejaVuSans-48\"/>\n       <use x=\"127.246094\" xlink:href=\"#DejaVuSans-48\"/>\n      </g>\n     </g>\n    </g>\n    <g id=\"xtick_6\">\n     <g id=\"line2d_6\">\n      <g>\n       <use style=\"stroke:#000000;stroke-width:0.8;\" x=\"360.184943\" xlink:href=\"#mf5d7e7dbcb\" y=\"224.64\"/>\n      </g>\n     </g>\n     <g id=\"text_6\">\n      <!-- 1000 -->\n      <defs>\n       <path d=\"M 12.40625 8.296875 \nL 28.515625 8.296875 \nL 28.515625 63.921875 \nL 10.984375 60.40625 \nL 10.984375 69.390625 \nL 28.421875 72.90625 \nL 38.28125 72.90625 \nL 38.28125 8.296875 \nL 54.390625 8.296875 \nL 54.390625 0 \nL 12.40625 0 \nz\n\" id=\"DejaVuSans-49\"/>\n      </defs>\n      <g transform=\"translate(347.459943 239.238437)scale(0.1 -0.1)\">\n       <use xlink:href=\"#DejaVuSans-49\"/>\n       <use x=\"63.623047\" xlink:href=\"#DejaVuSans-48\"/>\n       <use x=\"127.246094\" xlink:href=\"#DejaVuSans-48\"/>\n       <use x=\"190.869141\" xlink:href=\"#DejaVuSans-48\"/>\n      </g>\n     </g>\n    </g>\n    <g id=\"text_7\">\n     <!-- time step -->\n     <defs>\n      <path d=\"M 18.3125 70.21875 \nL 18.3125 54.6875 \nL 36.8125 54.6875 \nL 36.8125 47.703125 \nL 18.3125 47.703125 \nL 18.3125 18.015625 \nQ 18.3125 11.328125 20.140625 9.421875 \nQ 21.96875 7.515625 27.59375 7.515625 \nL 36.8125 7.515625 \nL 36.8125 0 \nL 27.59375 0 \nQ 17.1875 0 13.234375 3.875 \nQ 9.28125 7.765625 9.28125 18.015625 \nL 9.28125 47.703125 \nL 2.6875 47.703125 \nL 2.6875 54.6875 \nL 9.28125 54.6875 \nL 9.28125 70.21875 \nz\n\" id=\"DejaVuSans-116\"/>\n      <path d=\"M 9.421875 54.6875 \nL 18.40625 54.6875 \nL 18.40625 0 \nL 9.421875 0 \nz\nM 9.421875 75.984375 \nL 18.40625 75.984375 \nL 18.40625 64.59375 \nL 9.421875 64.59375 \nz\n\" id=\"DejaVuSans-105\"/>\n      <path d=\"M 52 44.1875 \nQ 55.375 50.25 60.0625 53.125 \nQ 64.75 56 71.09375 56 \nQ 79.640625 56 84.28125 50.015625 \nQ 88.921875 44.046875 88.921875 33.015625 \nL 88.921875 0 \nL 79.890625 0 \nL 79.890625 32.71875 \nQ 79.890625 40.578125 77.09375 44.375 \nQ 74.3125 48.1875 68.609375 48.1875 \nQ 61.625 48.1875 57.5625 43.546875 \nQ 53.515625 38.921875 53.515625 30.90625 \nL 53.515625 0 \nL 44.484375 0 \nL 44.484375 32.71875 \nQ 44.484375 40.625 41.703125 44.40625 \nQ 38.921875 48.1875 33.109375 48.1875 \nQ 26.21875 48.1875 22.15625 43.53125 \nQ 18.109375 38.875 18.109375 30.90625 \nL 18.109375 0 \nL 9.078125 0 \nL 9.078125 54.6875 \nL 18.109375 54.6875 \nL 18.109375 46.1875 \nQ 21.1875 51.21875 25.484375 53.609375 \nQ 29.78125 56 35.6875 56 \nQ 41.65625 56 45.828125 52.96875 \nQ 50 49.953125 52 44.1875 \nz\n\" id=\"DejaVuSans-109\"/>\n      <path d=\"M 56.203125 29.59375 \nL 56.203125 25.203125 \nL 14.890625 25.203125 \nQ 15.484375 15.921875 20.484375 11.0625 \nQ 25.484375 6.203125 34.421875 6.203125 \nQ 39.59375 6.203125 44.453125 7.46875 \nQ 49.3125 8.734375 54.109375 11.28125 \nL 54.109375 2.78125 \nQ 49.265625 0.734375 44.1875 -0.34375 \nQ 39.109375 -1.421875 33.890625 -1.421875 \nQ 20.796875 -1.421875 13.15625 6.1875 \nQ 5.515625 13.8125 5.515625 26.8125 \nQ 5.515625 40.234375 12.765625 48.109375 \nQ 20.015625 56 32.328125 56 \nQ 43.359375 56 49.78125 48.890625 \nQ 56.203125 41.796875 56.203125 29.59375 \nz\nM 47.21875 32.234375 \nQ 47.125 39.59375 43.09375 43.984375 \nQ 39.0625 48.390625 32.421875 48.390625 \nQ 24.90625 48.390625 20.390625 44.140625 \nQ 15.875 39.890625 15.1875 32.171875 \nz\n\" id=\"DejaVuSans-101\"/>\n      <path id=\"DejaVuSans-32\"/>\n      <path d=\"M 44.28125 53.078125 \nL 44.28125 44.578125 \nQ 40.484375 46.53125 36.375 47.5 \nQ 32.28125 48.484375 27.875 48.484375 \nQ 21.1875 48.484375 17.84375 46.4375 \nQ 14.5 44.390625 14.5 40.28125 \nQ 14.5 37.15625 16.890625 35.375 \nQ 19.28125 33.59375 26.515625 31.984375 \nL 29.59375 31.296875 \nQ 39.15625 29.25 43.1875 25.515625 \nQ 47.21875 21.78125 47.21875 15.09375 \nQ 47.21875 7.46875 41.1875 3.015625 \nQ 35.15625 -1.421875 24.609375 -1.421875 \nQ 20.21875 -1.421875 15.453125 -0.5625 \nQ 10.6875 0.296875 5.421875 2 \nL 5.421875 11.28125 \nQ 10.40625 8.6875 15.234375 7.390625 \nQ 20.0625 6.109375 24.8125 6.109375 \nQ 31.15625 6.109375 34.5625 8.28125 \nQ 37.984375 10.453125 37.984375 14.40625 \nQ 37.984375 18.0625 35.515625 20.015625 \nQ 33.0625 21.96875 24.703125 23.78125 \nL 21.578125 24.515625 \nQ 13.234375 26.265625 9.515625 29.90625 \nQ 5.8125 33.546875 5.8125 39.890625 \nQ 5.8125 47.609375 11.28125 51.796875 \nQ 16.75 56 26.8125 56 \nQ 31.78125 56 36.171875 55.265625 \nQ 40.578125 54.546875 44.28125 53.078125 \nz\n\" id=\"DejaVuSans-115\"/>\n      <path d=\"M 18.109375 8.203125 \nL 18.109375 -20.796875 \nL 9.078125 -20.796875 \nL 9.078125 54.6875 \nL 18.109375 54.6875 \nL 18.109375 46.390625 \nQ 20.953125 51.265625 25.265625 53.625 \nQ 29.59375 56 35.59375 56 \nQ 45.5625 56 51.78125 48.09375 \nQ 58.015625 40.1875 58.015625 27.296875 \nQ 58.015625 14.40625 51.78125 6.484375 \nQ 45.5625 -1.421875 35.59375 -1.421875 \nQ 29.59375 -1.421875 25.265625 0.953125 \nQ 20.953125 3.328125 18.109375 8.203125 \nz\nM 48.6875 27.296875 \nQ 48.6875 37.203125 44.609375 42.84375 \nQ 40.53125 48.484375 33.40625 48.484375 \nQ 26.265625 48.484375 22.1875 42.84375 \nQ 18.109375 37.203125 18.109375 27.296875 \nQ 18.109375 17.390625 22.1875 11.75 \nQ 26.265625 6.109375 33.40625 6.109375 \nQ 40.53125 6.109375 44.609375 11.75 \nQ 48.6875 17.390625 48.6875 27.296875 \nz\n\" id=\"DejaVuSans-112\"/>\n     </defs>\n     <g transform=\"translate(184.302344 252.916562)scale(0.1 -0.1)\">\n      <use xlink:href=\"#DejaVuSans-116\"/>\n      <use x=\"39.208984\" xlink:href=\"#DejaVuSans-105\"/>\n      <use x=\"66.992188\" xlink:href=\"#DejaVuSans-109\"/>\n      <use x=\"164.404297\" xlink:href=\"#DejaVuSans-101\"/>\n      <use x=\"225.927734\" xlink:href=\"#DejaVuSans-32\"/>\n      <use x=\"257.714844\" xlink:href=\"#DejaVuSans-115\"/>\n      <use x=\"309.814453\" xlink:href=\"#DejaVuSans-116\"/>\n      <use x=\"349.023438\" xlink:href=\"#DejaVuSans-101\"/>\n      <use x=\"410.546875\" xlink:href=\"#DejaVuSans-112\"/>\n     </g>\n    </g>\n   </g>\n   <g id=\"matplotlib.axis_2\">\n    <g id=\"ytick_1\">\n     <g id=\"line2d_7\">\n      <defs>\n       <path d=\"M 0 0 \nL -3.5 0 \n\" id=\"md859ef332a\" style=\"stroke:#000000;stroke-width:0.8;\"/>\n      </defs>\n      <g>\n       <use style=\"stroke:#000000;stroke-width:0.8;\" x=\"40.603125\" xlink:href=\"#md859ef332a\" y=\"207.759099\"/>\n      </g>\n     </g>\n     <g id=\"text_8\">\n      <!-- 0 -->\n      <g transform=\"translate(27.240625 211.558318)scale(0.1 -0.1)\">\n       <use xlink:href=\"#DejaVuSans-48\"/>\n      </g>\n     </g>\n    </g>\n    <g id=\"ytick_2\">\n     <g id=\"line2d_8\">\n      <g>\n       <use style=\"stroke:#000000;stroke-width:0.8;\" x=\"40.603125\" xlink:href=\"#md859ef332a\" y=\"172.772776\"/>\n      </g>\n     </g>\n     <g id=\"text_9\">\n      <!-- 2 -->\n      <g transform=\"translate(27.240625 176.571994)scale(0.1 -0.1)\">\n       <use xlink:href=\"#DejaVuSans-50\"/>\n      </g>\n     </g>\n    </g>\n    <g id=\"ytick_3\">\n     <g id=\"line2d_9\">\n      <g>\n       <use style=\"stroke:#000000;stroke-width:0.8;\" x=\"40.603125\" xlink:href=\"#md859ef332a\" y=\"137.786452\"/>\n      </g>\n     </g>\n     <g id=\"text_10\">\n      <!-- 4 -->\n      <g transform=\"translate(27.240625 141.585671)scale(0.1 -0.1)\">\n       <use xlink:href=\"#DejaVuSans-52\"/>\n      </g>\n     </g>\n    </g>\n    <g id=\"ytick_4\">\n     <g id=\"line2d_10\">\n      <g>\n       <use style=\"stroke:#000000;stroke-width:0.8;\" x=\"40.603125\" xlink:href=\"#md859ef332a\" y=\"102.800129\"/>\n      </g>\n     </g>\n     <g id=\"text_11\">\n      <!-- 6 -->\n      <g transform=\"translate(27.240625 106.599347)scale(0.1 -0.1)\">\n       <use xlink:href=\"#DejaVuSans-54\"/>\n      </g>\n     </g>\n    </g>\n    <g id=\"ytick_5\">\n     <g id=\"line2d_11\">\n      <g>\n       <use style=\"stroke:#000000;stroke-width:0.8;\" x=\"40.603125\" xlink:href=\"#md859ef332a\" y=\"67.813805\"/>\n      </g>\n     </g>\n     <g id=\"text_12\">\n      <!-- 8 -->\n      <g transform=\"translate(27.240625 71.613024)scale(0.1 -0.1)\">\n       <use xlink:href=\"#DejaVuSans-56\"/>\n      </g>\n     </g>\n    </g>\n    <g id=\"ytick_6\">\n     <g id=\"line2d_12\">\n      <g>\n       <use style=\"stroke:#000000;stroke-width:0.8;\" x=\"40.603125\" xlink:href=\"#md859ef332a\" y=\"32.827482\"/>\n      </g>\n     </g>\n     <g id=\"text_13\">\n      <!-- 10 -->\n      <g transform=\"translate(20.878125 36.626701)scale(0.1 -0.1)\">\n       <use xlink:href=\"#DejaVuSans-49\"/>\n       <use x=\"63.623047\" xlink:href=\"#DejaVuSans-48\"/>\n      </g>\n     </g>\n    </g>\n    <g id=\"text_14\">\n     <!-- magnetization -->\n     <defs>\n      <path d=\"M 34.28125 27.484375 \nQ 23.390625 27.484375 19.1875 25 \nQ 14.984375 22.515625 14.984375 16.5 \nQ 14.984375 11.71875 18.140625 8.90625 \nQ 21.296875 6.109375 26.703125 6.109375 \nQ 34.1875 6.109375 38.703125 11.40625 \nQ 43.21875 16.703125 43.21875 25.484375 \nL 43.21875 27.484375 \nz\nM 52.203125 31.203125 \nL 52.203125 0 \nL 43.21875 0 \nL 43.21875 8.296875 \nQ 40.140625 3.328125 35.546875 0.953125 \nQ 30.953125 -1.421875 24.3125 -1.421875 \nQ 15.921875 -1.421875 10.953125 3.296875 \nQ 6 8.015625 6 15.921875 \nQ 6 25.140625 12.171875 29.828125 \nQ 18.359375 34.515625 30.609375 34.515625 \nL 43.21875 34.515625 \nL 43.21875 35.40625 \nQ 43.21875 41.609375 39.140625 45 \nQ 35.0625 48.390625 27.6875 48.390625 \nQ 23 48.390625 18.546875 47.265625 \nQ 14.109375 46.140625 10.015625 43.890625 \nL 10.015625 52.203125 \nQ 14.9375 54.109375 19.578125 55.046875 \nQ 24.21875 56 28.609375 56 \nQ 40.484375 56 46.34375 49.84375 \nQ 52.203125 43.703125 52.203125 31.203125 \nz\n\" id=\"DejaVuSans-97\"/>\n      <path d=\"M 45.40625 27.984375 \nQ 45.40625 37.75 41.375 43.109375 \nQ 37.359375 48.484375 30.078125 48.484375 \nQ 22.859375 48.484375 18.828125 43.109375 \nQ 14.796875 37.75 14.796875 27.984375 \nQ 14.796875 18.265625 18.828125 12.890625 \nQ 22.859375 7.515625 30.078125 7.515625 \nQ 37.359375 7.515625 41.375 12.890625 \nQ 45.40625 18.265625 45.40625 27.984375 \nz\nM 54.390625 6.78125 \nQ 54.390625 -7.171875 48.1875 -13.984375 \nQ 42 -20.796875 29.203125 -20.796875 \nQ 24.46875 -20.796875 20.265625 -20.09375 \nQ 16.0625 -19.390625 12.109375 -17.921875 \nL 12.109375 -9.1875 \nQ 16.0625 -11.328125 19.921875 -12.34375 \nQ 23.78125 -13.375 27.78125 -13.375 \nQ 36.625 -13.375 41.015625 -8.765625 \nQ 45.40625 -4.15625 45.40625 5.171875 \nL 45.40625 9.625 \nQ 42.625 4.78125 38.28125 2.390625 \nQ 33.9375 0 27.875 0 \nQ 17.828125 0 11.671875 7.65625 \nQ 5.515625 15.328125 5.515625 27.984375 \nQ 5.515625 40.671875 11.671875 48.328125 \nQ 17.828125 56 27.875 56 \nQ 33.9375 56 38.28125 53.609375 \nQ 42.625 51.21875 45.40625 46.390625 \nL 45.40625 54.6875 \nL 54.390625 54.6875 \nz\n\" id=\"DejaVuSans-103\"/>\n      <path d=\"M 54.890625 33.015625 \nL 54.890625 0 \nL 45.90625 0 \nL 45.90625 32.71875 \nQ 45.90625 40.484375 42.875 44.328125 \nQ 39.84375 48.1875 33.796875 48.1875 \nQ 26.515625 48.1875 22.3125 43.546875 \nQ 18.109375 38.921875 18.109375 30.90625 \nL 18.109375 0 \nL 9.078125 0 \nL 9.078125 54.6875 \nL 18.109375 54.6875 \nL 18.109375 46.1875 \nQ 21.34375 51.125 25.703125 53.5625 \nQ 30.078125 56 35.796875 56 \nQ 45.21875 56 50.046875 50.171875 \nQ 54.890625 44.34375 54.890625 33.015625 \nz\n\" id=\"DejaVuSans-110\"/>\n      <path d=\"M 5.515625 54.6875 \nL 48.1875 54.6875 \nL 48.1875 46.484375 \nL 14.40625 7.171875 \nL 48.1875 7.171875 \nL 48.1875 0 \nL 4.296875 0 \nL 4.296875 8.203125 \nL 38.09375 47.515625 \nL 5.515625 47.515625 \nz\n\" id=\"DejaVuSans-122\"/>\n      <path d=\"M 30.609375 48.390625 \nQ 23.390625 48.390625 19.1875 42.75 \nQ 14.984375 37.109375 14.984375 27.296875 \nQ 14.984375 17.484375 19.15625 11.84375 \nQ 23.34375 6.203125 30.609375 6.203125 \nQ 37.796875 6.203125 41.984375 11.859375 \nQ 46.1875 17.53125 46.1875 27.296875 \nQ 46.1875 37.015625 41.984375 42.703125 \nQ 37.796875 48.390625 30.609375 48.390625 \nz\nM 30.609375 56 \nQ 42.328125 56 49.015625 48.375 \nQ 55.71875 40.765625 55.71875 27.296875 \nQ 55.71875 13.875 49.015625 6.21875 \nQ 42.328125 -1.421875 30.609375 -1.421875 \nQ 18.84375 -1.421875 12.171875 6.21875 \nQ 5.515625 13.875 5.515625 27.296875 \nQ 5.515625 40.765625 12.171875 48.375 \nQ 18.84375 56 30.609375 56 \nz\n\" id=\"DejaVuSans-111\"/>\n     </defs>\n     <g transform=\"translate(14.798438 151.88875)rotate(-90)scale(0.1 -0.1)\">\n      <use xlink:href=\"#DejaVuSans-109\"/>\n      <use x=\"97.412109\" xlink:href=\"#DejaVuSans-97\"/>\n      <use x=\"158.691406\" xlink:href=\"#DejaVuSans-103\"/>\n      <use x=\"222.167969\" xlink:href=\"#DejaVuSans-110\"/>\n      <use x=\"285.546875\" xlink:href=\"#DejaVuSans-101\"/>\n      <use x=\"347.070312\" xlink:href=\"#DejaVuSans-116\"/>\n      <use x=\"386.279297\" xlink:href=\"#DejaVuSans-105\"/>\n      <use x=\"414.0625\" xlink:href=\"#DejaVuSans-122\"/>\n      <use x=\"466.552734\" xlink:href=\"#DejaVuSans-97\"/>\n      <use x=\"527.832031\" xlink:href=\"#DejaVuSans-116\"/>\n      <use x=\"567.041016\" xlink:href=\"#DejaVuSans-105\"/>\n      <use x=\"594.824219\" xlink:href=\"#DejaVuSans-111\"/>\n      <use x=\"656.005859\" xlink:href=\"#DejaVuSans-110\"/>\n     </g>\n    </g>\n   </g>\n   <g id=\"line2d_13\">\n    <path clip-path=\"url(#paf84c9bf17)\" d=\"M 55.821307 214.756364 \nL 56.12567 213.007047 \nL 56.734398 213.007047 \nL 57.343125 209.508415 \nL 57.647489 211.257731 \nL 58.256216 207.759099 \nL 58.56058 207.759099 \nL 59.169307 204.260467 \nL 59.47367 204.260467 \nL 59.778034 202.51115 \nL 60.691125 202.51115 \nL 60.995489 200.761834 \nL 61.299852 202.51115 \nL 61.604216 200.761834 \nL 62.212943 200.761834 \nL 62.517307 202.51115 \nL 62.82167 200.761834 \nL 63.126034 202.51115 \nL 63.430398 202.51115 \nL 64.039125 199.012518 \nL 64.343489 200.761834 \nL 64.647852 199.012518 \nL 64.952216 200.761834 \nL 65.560943 197.263202 \nL 65.865307 199.012518 \nL 66.16967 199.012518 \nL 66.474034 197.263202 \nL 67.082761 197.263202 \nL 67.995852 192.015253 \nL 68.300216 192.015253 \nL 68.60458 193.76457 \nL 69.822034 193.76457 \nL 70.126398 195.513886 \nL 70.430761 195.513886 \nL 70.735125 197.263202 \nL 71.343852 193.76457 \nL 72.256943 193.76457 \nL 72.561307 192.015253 \nL 72.86567 192.015253 \nL 73.474398 195.513886 \nL 73.778761 193.76457 \nL 74.083125 195.513886 \nL 74.387489 193.76457 \nL 74.691852 193.76457 \nL 75.604943 188.516621 \nL 76.822398 188.516621 \nL 77.126761 186.767305 \nL 77.735489 186.767305 \nL 78.039852 188.516621 \nL 78.344216 186.767305 \nL 78.64858 186.767305 \nL 79.257307 183.268673 \nL 79.56167 183.268673 \nL 79.866034 181.519356 \nL 80.170398 183.268673 \nL 80.474761 181.519356 \nL 81.083489 181.519356 \nL 81.387852 179.77004 \nL 82.90967 179.77004 \nL 83.518398 176.271408 \nL 83.822761 178.020724 \nL 84.431489 178.020724 \nL 85.34458 172.772776 \nL 85.648943 172.772776 \nL 85.953307 174.522092 \nL 86.25767 174.522092 \nL 87.779489 165.775511 \nL 88.083852 167.524827 \nL 88.388216 165.775511 \nL 88.69258 167.524827 \nL 89.301307 167.524827 \nL 89.910034 164.026195 \nL 90.518761 167.524827 \nL 91.127489 167.524827 \nL 91.431852 169.274143 \nL 92.04058 165.775511 \nL 92.649307 165.775511 \nL 92.95367 164.026195 \nL 93.258034 164.026195 \nL 93.562398 162.276879 \nL 93.866761 164.026195 \nL 94.171125 164.026195 \nL 94.475489 165.775511 \nL 94.779852 164.026195 \nL 95.084216 165.775511 \nL 95.692943 162.276879 \nL 95.997307 162.276879 \nL 96.30167 160.527562 \nL 96.606034 162.276879 \nL 97.823489 155.279614 \nL 98.432216 155.279614 \nL 99.040943 151.780981 \nL 99.954034 151.780981 \nL 100.562761 148.282349 \nL 100.867125 148.282349 \nL 101.475852 151.780981 \nL 101.780216 150.031665 \nL 102.08458 150.031665 \nL 102.693307 146.533033 \nL 103.302034 146.533033 \nL 104.215125 141.285084 \nL 104.519489 141.285084 \nL 105.128216 137.786452 \nL 105.43258 137.786452 \nL 105.736943 136.037136 \nL 106.041307 136.037136 \nL 108.78058 120.29329 \nL 109.998034 120.29329 \nL 110.302398 122.042607 \nL 110.606761 120.29329 \nL 110.911125 120.29329 \nL 111.824216 115.045342 \nL 112.12858 115.045342 \nL 112.432943 113.296026 \nL 113.346034 118.543974 \nL 113.650398 116.794658 \nL 114.259125 120.29329 \nL 114.867852 120.29329 \nL 115.172216 118.543974 \nL 115.47658 120.29329 \nL 115.780943 120.29329 \nL 116.38967 116.794658 \nL 116.694034 116.794658 \nL 116.998398 118.543974 \nL 117.607125 115.045342 \nL 117.911489 115.045342 \nL 118.215852 116.794658 \nL 118.520216 116.794658 \nL 119.128943 120.29329 \nL 120.042034 120.29329 \nL 120.346398 122.042607 \nL 120.650761 122.042607 \nL 121.259489 118.543974 \nL 121.563852 118.543974 \nL 121.868216 116.794658 \nL 122.476943 120.29329 \nL 122.781307 120.29329 \nL 123.08567 122.042607 \nL 123.390034 122.042607 \nL 123.998761 118.543974 \nL 124.607489 118.543974 \nL 124.911852 116.794658 \nL 125.824943 116.794658 \nL 126.129307 118.543974 \nL 127.042398 118.543974 \nL 127.346761 116.794658 \nL 127.651125 116.794658 \nL 127.955489 115.045342 \nL 128.259852 115.045342 \nL 128.564216 116.794658 \nL 129.172943 113.296026 \nL 130.390398 113.296026 \nL 130.694761 111.54671 \nL 131.303489 111.54671 \nL 131.607852 109.797393 \nL 132.21658 113.296026 \nL 132.825307 113.296026 \nL 133.12967 115.045342 \nL 133.738398 115.045342 \nL 134.347125 111.54671 \nL 134.955852 111.54671 \nL 135.56458 108.048077 \nL 135.868943 108.048077 \nL 136.47767 104.549445 \nL 136.782034 106.298761 \nL 137.390761 102.800129 \nL 137.695125 102.800129 \nL 138.303852 106.298761 \nL 139.521307 106.298761 \nL 139.82567 108.048077 \nL 140.130034 106.298761 \nL 140.434398 106.298761 \nL 140.738761 108.048077 \nL 141.043125 108.048077 \nL 141.347489 109.797393 \nL 141.956216 106.298761 \nL 142.26058 106.298761 \nL 143.17367 111.54671 \nL 143.782398 108.048077 \nL 144.086761 108.048077 \nL 144.391125 106.298761 \nL 144.695489 106.298761 \nL 144.999852 108.048077 \nL 145.60858 108.048077 \nL 146.217307 104.549445 \nL 146.52167 104.549445 \nL 146.826034 102.800129 \nL 147.130398 102.800129 \nL 147.434761 104.549445 \nL 147.739125 104.549445 \nL 148.043489 102.800129 \nL 148.95658 102.800129 \nL 149.565307 106.298761 \nL 149.86967 106.298761 \nL 150.174034 104.549445 \nL 150.478398 106.298761 \nL 151.087125 102.800129 \nL 151.391489 102.800129 \nL 151.695852 101.050813 \nL 152.30458 104.549445 \nL 152.608943 104.549445 \nL 152.913307 106.298761 \nL 153.21767 106.298761 \nL 154.739489 97.55218 \nL 155.348216 101.050813 \nL 155.65258 99.301496 \nL 156.261307 99.301496 \nL 156.56567 97.55218 \nL 157.174398 97.55218 \nL 157.783125 94.053548 \nL 158.087489 94.053548 \nL 158.696216 90.554916 \nL 159.00058 92.304232 \nL 159.609307 92.304232 \nL 159.91367 94.053548 \nL 160.218034 94.053548 \nL 160.522398 95.802864 \nL 160.826761 95.802864 \nL 161.131125 97.55218 \nL 161.435489 97.55218 \nL 161.739852 95.802864 \nL 162.34858 95.802864 \nL 162.652943 94.053548 \nL 163.26167 94.053548 \nL 163.566034 92.304232 \nL 165.69658 92.304232 \nL 166.000943 90.554916 \nL 166.914034 90.554916 \nL 167.218398 92.304232 \nL 167.522761 92.304232 \nL 167.827125 90.554916 \nL 168.131489 92.304232 \nL 168.740216 88.805599 \nL 169.348943 92.304232 \nL 169.653307 90.554916 \nL 169.95767 90.554916 \nL 170.870761 85.306967 \nL 171.479489 85.306967 \nL 171.783852 83.557651 \nL 172.088216 83.557651 \nL 172.39258 81.808335 \nL 173.914398 81.808335 \nL 174.218761 83.557651 \nL 174.523125 81.808335 \nL 174.827489 81.808335 \nL 175.131852 83.557651 \nL 175.436216 83.557651 \nL 175.74058 81.808335 \nL 176.349307 81.808335 \nL 176.65367 83.557651 \nL 177.262398 83.557651 \nL 177.566761 81.808335 \nL 177.871125 81.808335 \nL 178.175489 83.557651 \nL 178.784216 80.059019 \nL 179.08858 80.059019 \nL 179.697307 76.560386 \nL 180.610398 76.560386 \nL 180.914761 78.309702 \nL 181.523489 74.81107 \nL 181.827852 76.560386 \nL 182.132216 74.81107 \nL 183.34967 74.81107 \nL 183.958398 78.309702 \nL 184.262761 76.560386 \nL 185.175852 76.560386 \nL 186.088943 71.312438 \nL 186.393307 71.312438 \nL 187.306398 76.560386 \nL 187.915125 73.061754 \nL 188.523852 73.061754 \nL 188.828216 74.81107 \nL 189.13258 73.061754 \nL 189.436943 74.81107 \nL 189.741307 74.81107 \nL 190.04567 76.560386 \nL 190.654398 73.061754 \nL 191.567489 73.061754 \nL 191.871852 71.312438 \nL 193.089307 71.312438 \nL 193.698034 74.81107 \nL 194.306761 74.81107 \nL 194.611125 73.061754 \nL 194.915489 73.061754 \nL 195.219852 71.312438 \nL 195.524216 71.312438 \nL 195.82858 69.563121 \nL 196.437307 69.563121 \nL 196.74167 67.813805 \nL 197.046034 69.563121 \nL 197.350398 69.563121 \nL 197.959125 66.064489 \nL 199.17658 66.064489 \nL 199.785307 62.565857 \nL 200.394034 62.565857 \nL 200.698398 60.816541 \nL 201.002761 60.816541 \nL 201.307125 62.565857 \nL 201.611489 62.565857 \nL 201.915852 60.816541 \nL 203.133307 60.816541 \nL 203.43767 59.067224 \nL 203.742034 60.816541 \nL 204.046398 59.067224 \nL 204.655125 59.067224 \nL 205.568216 53.819276 \nL 205.87258 53.819276 \nL 206.176943 55.568592 \nL 206.481307 53.819276 \nL 206.78567 53.819276 \nL 207.090034 52.06996 \nL 207.394398 53.819276 \nL 207.698761 52.06996 \nL 208.611852 52.06996 \nL 208.916216 53.819276 \nL 209.22058 52.06996 \nL 209.524943 52.06996 \nL 210.13367 55.568592 \nL 210.742398 55.568592 \nL 211.046761 57.317908 \nL 211.351125 57.317908 \nL 211.655489 59.067224 \nL 211.959852 57.317908 \nL 212.264216 57.317908 \nL 213.177307 52.06996 \nL 213.786034 52.06996 \nL 214.090398 53.819276 \nL 214.394761 52.06996 \nL 215.307852 57.317908 \nL 215.612216 57.317908 \nL 215.91658 55.568592 \nL 216.525307 59.067224 \nL 218.047125 59.067224 \nL 218.655852 55.568592 \nL 218.960216 57.317908 \nL 219.26458 55.568592 \nL 219.568943 55.568592 \nL 220.17767 52.06996 \nL 221.090761 52.06996 \nL 221.699489 48.571327 \nL 222.003852 48.571327 \nL 222.61258 52.06996 \nL 222.916943 52.06996 \nL 223.221307 50.320644 \nL 223.52567 50.320644 \nL 223.830034 48.571327 \nL 224.438761 48.571327 \nL 225.047489 45.072695 \nL 225.351852 45.072695 \nL 225.96058 41.574063 \nL 227.786761 41.574063 \nL 228.091125 43.323379 \nL 228.395489 43.323379 \nL 228.699852 45.072695 \nL 229.004216 45.072695 \nL 229.30858 46.822011 \nL 229.612943 45.072695 \nL 229.917307 46.822011 \nL 230.526034 46.822011 \nL 230.830398 45.072695 \nL 231.439125 45.072695 \nL 231.743489 43.323379 \nL 233.265307 43.323379 \nL 233.874034 46.822011 \nL 234.787125 46.822011 \nL 235.091489 45.072695 \nL 235.395852 45.072695 \nL 236.00458 41.574063 \nL 236.613307 41.574063 \nL 237.222034 38.07543 \nL 237.526398 38.07543 \nL 237.830761 36.326114 \nL 238.135125 38.07543 \nL 238.743852 38.07543 \nL 239.048216 39.824747 \nL 239.35258 38.07543 \nL 239.656943 39.824747 \nL 240.570034 39.824747 \nL 240.874398 38.07543 \nL 241.178761 39.824747 \nL 241.483125 38.07543 \nL 242.091852 38.07543 \nL 242.396216 36.326114 \nL 242.70058 36.326114 \nL 243.004943 34.576798 \nL 243.309307 36.326114 \nL 243.918034 36.326114 \nL 244.222398 38.07543 \nL 244.526761 38.07543 \nL 245.135489 34.576798 \nL 246.04858 34.576798 \nL 246.352943 36.326114 \nL 246.657307 36.326114 \nL 246.96167 38.07543 \nL 247.266034 38.07543 \nL 247.570398 36.326114 \nL 247.874761 38.07543 \nL 248.483489 34.576798 \nL 248.787852 34.576798 \nL 249.092216 36.326114 \nL 249.39658 34.576798 \nL 249.700943 34.576798 \nL 250.005307 36.326114 \nL 250.30967 36.326114 \nL 250.614034 38.07543 \nL 250.918398 38.07543 \nL 251.222761 39.824747 \nL 253.048943 39.824747 \nL 253.353307 38.07543 \nL 253.962034 41.574063 \nL 254.570761 38.07543 \nL 255.179489 41.574063 \nL 255.483852 41.574063 \nL 255.788216 43.323379 \nL 256.09258 43.323379 \nL 256.396943 41.574063 \nL 256.701307 43.323379 \nL 257.00567 43.323379 \nL 257.310034 41.574063 \nL 257.918761 41.574063 \nL 258.223125 43.323379 \nL 258.527489 43.323379 \nL 259.136216 46.822011 \nL 259.744943 46.822011 \nL 260.049307 45.072695 \nL 260.658034 45.072695 \nL 260.962398 43.323379 \nL 261.266761 45.072695 \nL 261.571125 45.072695 \nL 261.875489 46.822011 \nL 262.484216 46.822011 \nL 263.397307 41.574063 \nL 263.70167 41.574063 \nL 264.006034 43.323379 \nL 264.310398 43.323379 \nL 264.614761 41.574063 \nL 264.919125 41.574063 \nL 265.223489 43.323379 \nL 266.13658 43.323379 \nL 266.440943 41.574063 \nL 266.745307 43.323379 \nL 267.04967 43.323379 \nL 267.658398 46.822011 \nL 267.962761 45.072695 \nL 268.571489 45.072695 \nL 268.875852 43.323379 \nL 269.180216 43.323379 \nL 269.48458 41.574063 \nL 269.788943 43.323379 \nL 270.39767 39.824747 \nL 270.702034 39.824747 \nL 271.006398 41.574063 \nL 271.310761 39.824747 \nL 271.615125 39.824747 \nL 272.223852 36.326114 \nL 272.528216 36.326114 \nL 272.83258 38.07543 \nL 273.136943 36.326114 \nL 273.441307 38.07543 \nL 273.74567 36.326114 \nL 274.050034 36.326114 \nL 274.354398 38.07543 \nL 274.658761 38.07543 \nL 274.963125 36.326114 \nL 275.267489 38.07543 \nL 275.571852 38.07543 \nL 275.876216 39.824747 \nL 276.484943 36.326114 \nL 276.789307 38.07543 \nL 277.09367 38.07543 \nL 277.702398 34.576798 \nL 278.919852 34.576798 \nL 279.224216 36.326114 \nL 280.44167 36.326114 \nL 280.746034 38.07543 \nL 281.050398 38.07543 \nL 281.354761 39.824747 \nL 281.659125 39.824747 \nL 281.963489 41.574063 \nL 282.572216 41.574063 \nL 282.87658 39.824747 \nL 283.485307 43.323379 \nL 283.78967 41.574063 \nL 284.702761 41.574063 \nL 285.007125 43.323379 \nL 285.311489 41.574063 \nL 285.615852 41.574063 \nL 285.920216 43.323379 \nL 286.22458 43.323379 \nL 286.528943 41.574063 \nL 287.13767 41.574063 \nL 287.442034 43.323379 \nL 288.050761 43.323379 \nL 288.355125 41.574063 \nL 288.963852 41.574063 \nL 289.57258 38.07543 \nL 289.876943 38.07543 \nL 290.181307 36.326114 \nL 290.48567 36.326114 \nL 290.790034 34.576798 \nL 291.094398 34.576798 \nL 291.398761 36.326114 \nL 291.703125 36.326114 \nL 292.007489 34.576798 \nL 292.92058 39.824747 \nL 293.224943 39.824747 \nL 293.529307 38.07543 \nL 294.138034 38.07543 \nL 294.746761 34.576798 \nL 295.051125 34.576798 \nL 295.355489 32.827482 \nL 295.659852 32.827482 \nL 295.964216 31.078166 \nL 297.18167 31.078166 \nL 297.486034 29.32885 \nL 297.790398 29.32885 \nL 298.399125 25.830217 \nL 298.703489 27.579533 \nL 299.312216 27.579533 \nL 299.61658 25.830217 \nL 299.920943 27.579533 \nL 300.52967 27.579533 \nL 300.834034 25.830217 \nL 302.051489 25.830217 \nL 302.355852 27.579533 \nL 302.660216 27.579533 \nL 302.96458 25.830217 \nL 303.573307 25.830217 \nL 304.182034 22.331585 \nL 305.399489 22.331585 \nL 306.008216 25.830217 \nL 306.31258 25.830217 \nL 306.921307 29.32885 \nL 307.530034 29.32885 \nL 307.834398 31.078166 \nL 308.443125 31.078166 \nL 308.747489 29.32885 \nL 309.051852 29.32885 \nL 309.964943 34.576798 \nL 310.878034 34.576798 \nL 311.486761 38.07543 \nL 311.791125 36.326114 \nL 312.095489 36.326114 \nL 312.399852 38.07543 \nL 312.704216 38.07543 \nL 313.00858 36.326114 \nL 313.312943 38.07543 \nL 313.92167 38.07543 \nL 314.530398 41.574063 \nL 314.834761 41.574063 \nL 315.139125 39.824747 \nL 316.052216 39.824747 \nL 316.35658 41.574063 \nL 316.660943 41.574063 \nL 316.965307 39.824747 \nL 317.574034 39.824747 \nL 317.878398 41.574063 \nL 318.182761 41.574063 \nL 318.487125 39.824747 \nL 318.791489 39.824747 \nL 319.095852 41.574063 \nL 319.70458 41.574063 \nL 320.008943 39.824747 \nL 320.61767 39.824747 \nL 320.922034 38.07543 \nL 321.530761 38.07543 \nL 321.835125 36.326114 \nL 322.443852 39.824747 \nL 323.05258 36.326114 \nL 324.270034 36.326114 \nL 324.574398 34.576798 \nL 324.878761 34.576798 \nL 325.183125 32.827482 \nL 325.487489 34.576798 \nL 326.40058 34.576798 \nL 327.009307 38.07543 \nL 327.618034 38.07543 \nL 328.226761 41.574063 \nL 328.531125 39.824747 \nL 328.835489 41.574063 \nL 329.444216 41.574063 \nL 330.052943 45.072695 \nL 330.66167 45.072695 \nL 331.574761 39.824747 \nL 332.183489 43.323379 \nL 333.09658 38.07543 \nL 334.314034 38.07543 \nL 334.618398 36.326114 \nL 334.922761 36.326114 \nL 335.227125 34.576798 \nL 335.531489 36.326114 \nL 336.44458 36.326114 \nL 336.748943 34.576798 \nL 338.270761 34.576798 \nL 338.575125 36.326114 \nL 339.183852 36.326114 \nL 339.488216 38.07543 \nL 340.401307 32.827482 \nL 341.010034 32.827482 \nL 341.314398 31.078166 \nL 341.618761 32.827482 \nL 342.531852 32.827482 \nL 342.836216 31.078166 \nL 343.444943 31.078166 \nL 343.749307 29.32885 \nL 344.358034 29.32885 \nL 344.662398 31.078166 \nL 344.966761 29.32885 \nL 345.879852 29.32885 \nL 346.184216 27.579533 \nL 346.792943 31.078166 \nL 348.010398 31.078166 \nL 348.619125 27.579533 \nL 351.054034 27.579533 \nL 351.358398 25.830217 \nL 351.662761 25.830217 \nL 351.967125 24.080901 \nL 353.488943 24.080901 \nL 353.793307 22.331585 \nL 354.09767 24.080901 \nL 354.402034 22.331585 \nL 355.923852 22.331585 \nL 356.228216 20.582269 \nL 356.53258 20.582269 \nL 356.836943 22.331585 \nL 357.141307 22.331585 \nL 357.44567 20.582269 \nL 357.750034 20.582269 \nL 358.054398 18.832953 \nL 358.358761 18.832953 \nL 358.663125 17.083636 \nL 358.967489 17.083636 \nL 359.271852 18.832953 \nL 359.576216 18.832953 \nL 359.88058 17.083636 \nL 360.184943 18.832953 \nL 360.184943 18.832953 \n\" style=\"fill:none;stroke:#1f77b4;stroke-linecap:square;stroke-width:1.5;\"/>\n   </g>\n   <g id=\"patch_3\">\n    <path d=\"M 40.603125 224.64 \nL 40.603125 7.2 \n\" style=\"fill:none;stroke:#000000;stroke-linecap:square;stroke-linejoin:miter;stroke-width:0.8;\"/>\n   </g>\n   <g id=\"patch_4\">\n    <path d=\"M 375.403125 224.64 \nL 375.403125 7.2 \n\" style=\"fill:none;stroke:#000000;stroke-linecap:square;stroke-linejoin:miter;stroke-width:0.8;\"/>\n   </g>\n   <g id=\"patch_5\">\n    <path d=\"M 40.603125 224.64 \nL 375.403125 224.64 \n\" style=\"fill:none;stroke:#000000;stroke-linecap:square;stroke-linejoin:miter;stroke-width:0.8;\"/>\n   </g>\n   <g id=\"patch_6\">\n    <path d=\"M 40.603125 7.2 \nL 375.403125 7.2 \n\" style=\"fill:none;stroke:#000000;stroke-linecap:square;stroke-linejoin:miter;stroke-width:0.8;\"/>\n   </g>\n  </g>\n </g>\n <defs>\n  <clipPath id=\"paf84c9bf17\">\n   <rect height=\"217.44\" width=\"334.8\" x=\"40.603125\" y=\"7.2\"/>\n  </clipPath>\n </defs>\n</svg>\n",
            "image/png": "[encoded data removed]"
          },
          "metadata": {
            "tags": [],
            "needs_background": "light"
          }
        }
      ]
    },
    {
      "cell_type": "code",
      "metadata": {
        "id": "f_iiQgSOeYHU"
      },
      "source": [
        ""
      ],
      "execution_count": null,
      "outputs": []
    }
  ]
}